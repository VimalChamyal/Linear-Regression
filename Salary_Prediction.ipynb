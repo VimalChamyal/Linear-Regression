{
  "nbformat": 4,
  "nbformat_minor": 0,
  "metadata": {
    "colab": {
      "provenance": [],
      "collapsed_sections": [],
      "authorship_tag": "ABX9TyONeqRLOaOV4yh2G13uT24I",
      "include_colab_link": true
    },
    "kernelspec": {
      "name": "python3",
      "display_name": "Python 3"
    },
    "language_info": {
      "name": "python"
    }
  },
  "cells": [
    {
      "cell_type": "markdown",
      "metadata": {
        "id": "view-in-github",
        "colab_type": "text"
      },
      "source": [
        "<a href=\"https://colab.research.google.com/github/VimalChamyal/Linear-Regression/blob/main/Salary_Prediction.ipynb\" target=\"_parent\"><img src=\"https://colab.research.google.com/assets/colab-badge.svg\" alt=\"Open In Colab\"/></a>"
      ]
    },
    {
      "cell_type": "code",
      "execution_count": 5,
      "metadata": {
        "id": "6EPhyCBBmfLh"
      },
      "outputs": [],
      "source": [
        "# Usual imports\n",
        "import pandas as pd\n",
        "import numpy as np\n",
        "import matplotlib.pyplot as plt\n",
        "import seaborn as sns"
      ]
    },
    {
      "cell_type": "code",
      "source": [
        "url = 'https://raw.githubusercontent.com/VimalChamyal/Linear-Regression/main/accountant_salary.csv'\n",
        "df1 = pd.read_csv(url)\n",
        "# Loading the dataset from github and putting in up on the pandas dataframe\n",
        "# Important to note that we are loading the raw data from the github file"
      ],
      "metadata": {
        "id": "OxIiP8dBm1iM"
      },
      "execution_count": 11,
      "outputs": []
    },
    {
      "cell_type": "code",
      "source": [
        "df1"
      ],
      "metadata": {
        "colab": {
          "base_uri": "https://localhost:8080/",
          "height": 468
        },
        "id": "f5S3_J3Wm0HI",
        "outputId": "f787d260-4837-46c3-bc0e-c47f8481cfb1"
      },
      "execution_count": 12,
      "outputs": [
        {
          "output_type": "execute_result",
          "data": {
            "text/plain": [
              "      degree  masters  professional_membership  years_experience  \\\n",
              "0          1        1                        0                 4   \n",
              "1          1        1                        1                 9   \n",
              "2          1        0                        0                13   \n",
              "3          1        1                        1                 2   \n",
              "4          1        2                        1                13   \n",
              "...      ...      ...                      ...               ...   \n",
              "1008       1        2                        0                11   \n",
              "1009       1        2                        0                 4   \n",
              "1010       1        1                        1                 6   \n",
              "1011       1        1                        1                13   \n",
              "1012       1        1                        0                 3   \n",
              "\n",
              "      audit_experience  IT_skill_rate  Size_of_the_company_worked  \\\n",
              "0                    3            9.6                           4   \n",
              "1                    4            3.6                           3   \n",
              "2                    2            6.9                           2   \n",
              "3                    3            8.9                           1   \n",
              "4                    5            7.5                           4   \n",
              "...                ...            ...                         ...   \n",
              "1008                 5            5.1                           1   \n",
              "1009                 0            9.1                           1   \n",
              "1010                 5            6.3                           2   \n",
              "1011                 5            6.6                           1   \n",
              "1012                 3            6.7                           3   \n",
              "\n",
              "      salary_per_year  \n",
              "0               89661  \n",
              "1              105336  \n",
              "2               91402  \n",
              "3               96137  \n",
              "4              113364  \n",
              "...               ...  \n",
              "1008            96438  \n",
              "1009            85523  \n",
              "1010           100476  \n",
              "1011           107083  \n",
              "1012            82310  \n",
              "\n",
              "[1013 rows x 8 columns]"
            ],
            "text/html": [
              "\n",
              "  <div id=\"df-f161d122-1c5b-4343-b588-a27f2b5af966\">\n",
              "    <div class=\"colab-df-container\">\n",
              "      <div>\n",
              "<style scoped>\n",
              "    .dataframe tbody tr th:only-of-type {\n",
              "        vertical-align: middle;\n",
              "    }\n",
              "\n",
              "    .dataframe tbody tr th {\n",
              "        vertical-align: top;\n",
              "    }\n",
              "\n",
              "    .dataframe thead th {\n",
              "        text-align: right;\n",
              "    }\n",
              "</style>\n",
              "<table border=\"1\" class=\"dataframe\">\n",
              "  <thead>\n",
              "    <tr style=\"text-align: right;\">\n",
              "      <th></th>\n",
              "      <th>degree</th>\n",
              "      <th>masters</th>\n",
              "      <th>professional_membership</th>\n",
              "      <th>years_experience</th>\n",
              "      <th>audit_experience</th>\n",
              "      <th>IT_skill_rate</th>\n",
              "      <th>Size_of_the_company_worked</th>\n",
              "      <th>salary_per_year</th>\n",
              "    </tr>\n",
              "  </thead>\n",
              "  <tbody>\n",
              "    <tr>\n",
              "      <th>0</th>\n",
              "      <td>1</td>\n",
              "      <td>1</td>\n",
              "      <td>0</td>\n",
              "      <td>4</td>\n",
              "      <td>3</td>\n",
              "      <td>9.6</td>\n",
              "      <td>4</td>\n",
              "      <td>89661</td>\n",
              "    </tr>\n",
              "    <tr>\n",
              "      <th>1</th>\n",
              "      <td>1</td>\n",
              "      <td>1</td>\n",
              "      <td>1</td>\n",
              "      <td>9</td>\n",
              "      <td>4</td>\n",
              "      <td>3.6</td>\n",
              "      <td>3</td>\n",
              "      <td>105336</td>\n",
              "    </tr>\n",
              "    <tr>\n",
              "      <th>2</th>\n",
              "      <td>1</td>\n",
              "      <td>0</td>\n",
              "      <td>0</td>\n",
              "      <td>13</td>\n",
              "      <td>2</td>\n",
              "      <td>6.9</td>\n",
              "      <td>2</td>\n",
              "      <td>91402</td>\n",
              "    </tr>\n",
              "    <tr>\n",
              "      <th>3</th>\n",
              "      <td>1</td>\n",
              "      <td>1</td>\n",
              "      <td>1</td>\n",
              "      <td>2</td>\n",
              "      <td>3</td>\n",
              "      <td>8.9</td>\n",
              "      <td>1</td>\n",
              "      <td>96137</td>\n",
              "    </tr>\n",
              "    <tr>\n",
              "      <th>4</th>\n",
              "      <td>1</td>\n",
              "      <td>2</td>\n",
              "      <td>1</td>\n",
              "      <td>13</td>\n",
              "      <td>5</td>\n",
              "      <td>7.5</td>\n",
              "      <td>4</td>\n",
              "      <td>113364</td>\n",
              "    </tr>\n",
              "    <tr>\n",
              "      <th>...</th>\n",
              "      <td>...</td>\n",
              "      <td>...</td>\n",
              "      <td>...</td>\n",
              "      <td>...</td>\n",
              "      <td>...</td>\n",
              "      <td>...</td>\n",
              "      <td>...</td>\n",
              "      <td>...</td>\n",
              "    </tr>\n",
              "    <tr>\n",
              "      <th>1008</th>\n",
              "      <td>1</td>\n",
              "      <td>2</td>\n",
              "      <td>0</td>\n",
              "      <td>11</td>\n",
              "      <td>5</td>\n",
              "      <td>5.1</td>\n",
              "      <td>1</td>\n",
              "      <td>96438</td>\n",
              "    </tr>\n",
              "    <tr>\n",
              "      <th>1009</th>\n",
              "      <td>1</td>\n",
              "      <td>2</td>\n",
              "      <td>0</td>\n",
              "      <td>4</td>\n",
              "      <td>0</td>\n",
              "      <td>9.1</td>\n",
              "      <td>1</td>\n",
              "      <td>85523</td>\n",
              "    </tr>\n",
              "    <tr>\n",
              "      <th>1010</th>\n",
              "      <td>1</td>\n",
              "      <td>1</td>\n",
              "      <td>1</td>\n",
              "      <td>6</td>\n",
              "      <td>5</td>\n",
              "      <td>6.3</td>\n",
              "      <td>2</td>\n",
              "      <td>100476</td>\n",
              "    </tr>\n",
              "    <tr>\n",
              "      <th>1011</th>\n",
              "      <td>1</td>\n",
              "      <td>1</td>\n",
              "      <td>1</td>\n",
              "      <td>13</td>\n",
              "      <td>5</td>\n",
              "      <td>6.6</td>\n",
              "      <td>1</td>\n",
              "      <td>107083</td>\n",
              "    </tr>\n",
              "    <tr>\n",
              "      <th>1012</th>\n",
              "      <td>1</td>\n",
              "      <td>1</td>\n",
              "      <td>0</td>\n",
              "      <td>3</td>\n",
              "      <td>3</td>\n",
              "      <td>6.7</td>\n",
              "      <td>3</td>\n",
              "      <td>82310</td>\n",
              "    </tr>\n",
              "  </tbody>\n",
              "</table>\n",
              "<p>1013 rows × 8 columns</p>\n",
              "</div>\n",
              "      <button class=\"colab-df-convert\" onclick=\"convertToInteractive('df-f161d122-1c5b-4343-b588-a27f2b5af966')\"\n",
              "              title=\"Convert this dataframe to an interactive table.\"\n",
              "              style=\"display:none;\">\n",
              "        \n",
              "  <svg xmlns=\"http://www.w3.org/2000/svg\" height=\"24px\"viewBox=\"0 0 24 24\"\n",
              "       width=\"24px\">\n",
              "    <path d=\"M0 0h24v24H0V0z\" fill=\"none\"/>\n",
              "    <path d=\"M18.56 5.44l.94 2.06.94-2.06 2.06-.94-2.06-.94-.94-2.06-.94 2.06-2.06.94zm-11 1L8.5 8.5l.94-2.06 2.06-.94-2.06-.94L8.5 2.5l-.94 2.06-2.06.94zm10 10l.94 2.06.94-2.06 2.06-.94-2.06-.94-.94-2.06-.94 2.06-2.06.94z\"/><path d=\"M17.41 7.96l-1.37-1.37c-.4-.4-.92-.59-1.43-.59-.52 0-1.04.2-1.43.59L10.3 9.45l-7.72 7.72c-.78.78-.78 2.05 0 2.83L4 21.41c.39.39.9.59 1.41.59.51 0 1.02-.2 1.41-.59l7.78-7.78 2.81-2.81c.8-.78.8-2.07 0-2.86zM5.41 20L4 18.59l7.72-7.72 1.47 1.35L5.41 20z\"/>\n",
              "  </svg>\n",
              "      </button>\n",
              "      \n",
              "  <style>\n",
              "    .colab-df-container {\n",
              "      display:flex;\n",
              "      flex-wrap:wrap;\n",
              "      gap: 12px;\n",
              "    }\n",
              "\n",
              "    .colab-df-convert {\n",
              "      background-color: #E8F0FE;\n",
              "      border: none;\n",
              "      border-radius: 50%;\n",
              "      cursor: pointer;\n",
              "      display: none;\n",
              "      fill: #1967D2;\n",
              "      height: 32px;\n",
              "      padding: 0 0 0 0;\n",
              "      width: 32px;\n",
              "    }\n",
              "\n",
              "    .colab-df-convert:hover {\n",
              "      background-color: #E2EBFA;\n",
              "      box-shadow: 0px 1px 2px rgba(60, 64, 67, 0.3), 0px 1px 3px 1px rgba(60, 64, 67, 0.15);\n",
              "      fill: #174EA6;\n",
              "    }\n",
              "\n",
              "    [theme=dark] .colab-df-convert {\n",
              "      background-color: #3B4455;\n",
              "      fill: #D2E3FC;\n",
              "    }\n",
              "\n",
              "    [theme=dark] .colab-df-convert:hover {\n",
              "      background-color: #434B5C;\n",
              "      box-shadow: 0px 1px 3px 1px rgba(0, 0, 0, 0.15);\n",
              "      filter: drop-shadow(0px 1px 2px rgba(0, 0, 0, 0.3));\n",
              "      fill: #FFFFFF;\n",
              "    }\n",
              "  </style>\n",
              "\n",
              "      <script>\n",
              "        const buttonEl =\n",
              "          document.querySelector('#df-f161d122-1c5b-4343-b588-a27f2b5af966 button.colab-df-convert');\n",
              "        buttonEl.style.display =\n",
              "          google.colab.kernel.accessAllowed ? 'block' : 'none';\n",
              "\n",
              "        async function convertToInteractive(key) {\n",
              "          const element = document.querySelector('#df-f161d122-1c5b-4343-b588-a27f2b5af966');\n",
              "          const dataTable =\n",
              "            await google.colab.kernel.invokeFunction('convertToInteractive',\n",
              "                                                     [key], {});\n",
              "          if (!dataTable) return;\n",
              "\n",
              "          const docLinkHtml = 'Like what you see? Visit the ' +\n",
              "            '<a target=\"_blank\" href=https://colab.research.google.com/notebooks/data_table.ipynb>data table notebook</a>'\n",
              "            + ' to learn more about interactive tables.';\n",
              "          element.innerHTML = '';\n",
              "          dataTable['output_type'] = 'display_data';\n",
              "          await google.colab.output.renderOutput(dataTable, element);\n",
              "          const docLink = document.createElement('div');\n",
              "          docLink.innerHTML = docLinkHtml;\n",
              "          element.appendChild(docLink);\n",
              "        }\n",
              "      </script>\n",
              "    </div>\n",
              "  </div>\n",
              "  "
            ]
          },
          "metadata": {},
          "execution_count": 12
        }
      ]
    },
    {
      "cell_type": "code",
      "source": [
        "df1.head(10)\n",
        "# This shows the 1st 10 rows\n",
        "# the categorical features have already been converted to 0, 1, 2\n",
        "# 0 in degree is no degree and 1 means degree is there\n",
        "# 0 no masters, 1 he/she is pursuing masters and 2 means that the person has got a masters degree already\n",
        "# 0 means there's no professional membership and 1 means registered for a professional membership\n",
        "# 1 is small, 2 medium, 3 large, 4 mnc"
      ],
      "metadata": {
        "colab": {
          "base_uri": "https://localhost:8080/",
          "height": 407
        },
        "id": "OMEmRHASo4pP",
        "outputId": "9db6c836-bfd1-4089-b8f0-dc872f96676a"
      },
      "execution_count": 17,
      "outputs": [
        {
          "output_type": "execute_result",
          "data": {
            "text/plain": [
              "   degree  masters  professional_membership  years_experience  \\\n",
              "0       1        1                        0                 4   \n",
              "1       1        1                        1                 9   \n",
              "2       1        0                        0                13   \n",
              "3       1        1                        1                 2   \n",
              "4       1        2                        1                13   \n",
              "5       1        2                        0                 3   \n",
              "6       1        1                        1                 8   \n",
              "7       1        1                        0                 6   \n",
              "8       1        1                        0                11   \n",
              "9       1        0                        0                 9   \n",
              "\n",
              "   audit_experience  IT_skill_rate  Size_of_the_company_worked  \\\n",
              "0                 3            9.6                           4   \n",
              "1                 4            3.6                           3   \n",
              "2                 2            6.9                           2   \n",
              "3                 3            8.9                           1   \n",
              "4                 5            7.5                           4   \n",
              "5                 0            9.0                           3   \n",
              "6                 3            9.7                           1   \n",
              "7                 1            4.7                           4   \n",
              "8                 2            2.2                           2   \n",
              "9                 4            6.6                           2   \n",
              "\n",
              "   salary_per_year  \n",
              "0            89661  \n",
              "1           105336  \n",
              "2            91402  \n",
              "3            96137  \n",
              "4           113364  \n",
              "5            79799  \n",
              "6           106253  \n",
              "7            80808  \n",
              "8            90258  \n",
              "9            90976  "
            ],
            "text/html": [
              "\n",
              "  <div id=\"df-c12cd89d-19dc-4a18-9794-58c24873c51b\">\n",
              "    <div class=\"colab-df-container\">\n",
              "      <div>\n",
              "<style scoped>\n",
              "    .dataframe tbody tr th:only-of-type {\n",
              "        vertical-align: middle;\n",
              "    }\n",
              "\n",
              "    .dataframe tbody tr th {\n",
              "        vertical-align: top;\n",
              "    }\n",
              "\n",
              "    .dataframe thead th {\n",
              "        text-align: right;\n",
              "    }\n",
              "</style>\n",
              "<table border=\"1\" class=\"dataframe\">\n",
              "  <thead>\n",
              "    <tr style=\"text-align: right;\">\n",
              "      <th></th>\n",
              "      <th>degree</th>\n",
              "      <th>masters</th>\n",
              "      <th>professional_membership</th>\n",
              "      <th>years_experience</th>\n",
              "      <th>audit_experience</th>\n",
              "      <th>IT_skill_rate</th>\n",
              "      <th>Size_of_the_company_worked</th>\n",
              "      <th>salary_per_year</th>\n",
              "    </tr>\n",
              "  </thead>\n",
              "  <tbody>\n",
              "    <tr>\n",
              "      <th>0</th>\n",
              "      <td>1</td>\n",
              "      <td>1</td>\n",
              "      <td>0</td>\n",
              "      <td>4</td>\n",
              "      <td>3</td>\n",
              "      <td>9.6</td>\n",
              "      <td>4</td>\n",
              "      <td>89661</td>\n",
              "    </tr>\n",
              "    <tr>\n",
              "      <th>1</th>\n",
              "      <td>1</td>\n",
              "      <td>1</td>\n",
              "      <td>1</td>\n",
              "      <td>9</td>\n",
              "      <td>4</td>\n",
              "      <td>3.6</td>\n",
              "      <td>3</td>\n",
              "      <td>105336</td>\n",
              "    </tr>\n",
              "    <tr>\n",
              "      <th>2</th>\n",
              "      <td>1</td>\n",
              "      <td>0</td>\n",
              "      <td>0</td>\n",
              "      <td>13</td>\n",
              "      <td>2</td>\n",
              "      <td>6.9</td>\n",
              "      <td>2</td>\n",
              "      <td>91402</td>\n",
              "    </tr>\n",
              "    <tr>\n",
              "      <th>3</th>\n",
              "      <td>1</td>\n",
              "      <td>1</td>\n",
              "      <td>1</td>\n",
              "      <td>2</td>\n",
              "      <td>3</td>\n",
              "      <td>8.9</td>\n",
              "      <td>1</td>\n",
              "      <td>96137</td>\n",
              "    </tr>\n",
              "    <tr>\n",
              "      <th>4</th>\n",
              "      <td>1</td>\n",
              "      <td>2</td>\n",
              "      <td>1</td>\n",
              "      <td>13</td>\n",
              "      <td>5</td>\n",
              "      <td>7.5</td>\n",
              "      <td>4</td>\n",
              "      <td>113364</td>\n",
              "    </tr>\n",
              "    <tr>\n",
              "      <th>5</th>\n",
              "      <td>1</td>\n",
              "      <td>2</td>\n",
              "      <td>0</td>\n",
              "      <td>3</td>\n",
              "      <td>0</td>\n",
              "      <td>9.0</td>\n",
              "      <td>3</td>\n",
              "      <td>79799</td>\n",
              "    </tr>\n",
              "    <tr>\n",
              "      <th>6</th>\n",
              "      <td>1</td>\n",
              "      <td>1</td>\n",
              "      <td>1</td>\n",
              "      <td>8</td>\n",
              "      <td>3</td>\n",
              "      <td>9.7</td>\n",
              "      <td>1</td>\n",
              "      <td>106253</td>\n",
              "    </tr>\n",
              "    <tr>\n",
              "      <th>7</th>\n",
              "      <td>1</td>\n",
              "      <td>1</td>\n",
              "      <td>0</td>\n",
              "      <td>6</td>\n",
              "      <td>1</td>\n",
              "      <td>4.7</td>\n",
              "      <td>4</td>\n",
              "      <td>80808</td>\n",
              "    </tr>\n",
              "    <tr>\n",
              "      <th>8</th>\n",
              "      <td>1</td>\n",
              "      <td>1</td>\n",
              "      <td>0</td>\n",
              "      <td>11</td>\n",
              "      <td>2</td>\n",
              "      <td>2.2</td>\n",
              "      <td>2</td>\n",
              "      <td>90258</td>\n",
              "    </tr>\n",
              "    <tr>\n",
              "      <th>9</th>\n",
              "      <td>1</td>\n",
              "      <td>0</td>\n",
              "      <td>0</td>\n",
              "      <td>9</td>\n",
              "      <td>4</td>\n",
              "      <td>6.6</td>\n",
              "      <td>2</td>\n",
              "      <td>90976</td>\n",
              "    </tr>\n",
              "  </tbody>\n",
              "</table>\n",
              "</div>\n",
              "      <button class=\"colab-df-convert\" onclick=\"convertToInteractive('df-c12cd89d-19dc-4a18-9794-58c24873c51b')\"\n",
              "              title=\"Convert this dataframe to an interactive table.\"\n",
              "              style=\"display:none;\">\n",
              "        \n",
              "  <svg xmlns=\"http://www.w3.org/2000/svg\" height=\"24px\"viewBox=\"0 0 24 24\"\n",
              "       width=\"24px\">\n",
              "    <path d=\"M0 0h24v24H0V0z\" fill=\"none\"/>\n",
              "    <path d=\"M18.56 5.44l.94 2.06.94-2.06 2.06-.94-2.06-.94-.94-2.06-.94 2.06-2.06.94zm-11 1L8.5 8.5l.94-2.06 2.06-.94-2.06-.94L8.5 2.5l-.94 2.06-2.06.94zm10 10l.94 2.06.94-2.06 2.06-.94-2.06-.94-.94-2.06-.94 2.06-2.06.94z\"/><path d=\"M17.41 7.96l-1.37-1.37c-.4-.4-.92-.59-1.43-.59-.52 0-1.04.2-1.43.59L10.3 9.45l-7.72 7.72c-.78.78-.78 2.05 0 2.83L4 21.41c.39.39.9.59 1.41.59.51 0 1.02-.2 1.41-.59l7.78-7.78 2.81-2.81c.8-.78.8-2.07 0-2.86zM5.41 20L4 18.59l7.72-7.72 1.47 1.35L5.41 20z\"/>\n",
              "  </svg>\n",
              "      </button>\n",
              "      \n",
              "  <style>\n",
              "    .colab-df-container {\n",
              "      display:flex;\n",
              "      flex-wrap:wrap;\n",
              "      gap: 12px;\n",
              "    }\n",
              "\n",
              "    .colab-df-convert {\n",
              "      background-color: #E8F0FE;\n",
              "      border: none;\n",
              "      border-radius: 50%;\n",
              "      cursor: pointer;\n",
              "      display: none;\n",
              "      fill: #1967D2;\n",
              "      height: 32px;\n",
              "      padding: 0 0 0 0;\n",
              "      width: 32px;\n",
              "    }\n",
              "\n",
              "    .colab-df-convert:hover {\n",
              "      background-color: #E2EBFA;\n",
              "      box-shadow: 0px 1px 2px rgba(60, 64, 67, 0.3), 0px 1px 3px 1px rgba(60, 64, 67, 0.15);\n",
              "      fill: #174EA6;\n",
              "    }\n",
              "\n",
              "    [theme=dark] .colab-df-convert {\n",
              "      background-color: #3B4455;\n",
              "      fill: #D2E3FC;\n",
              "    }\n",
              "\n",
              "    [theme=dark] .colab-df-convert:hover {\n",
              "      background-color: #434B5C;\n",
              "      box-shadow: 0px 1px 3px 1px rgba(0, 0, 0, 0.15);\n",
              "      filter: drop-shadow(0px 1px 2px rgba(0, 0, 0, 0.3));\n",
              "      fill: #FFFFFF;\n",
              "    }\n",
              "  </style>\n",
              "\n",
              "      <script>\n",
              "        const buttonEl =\n",
              "          document.querySelector('#df-c12cd89d-19dc-4a18-9794-58c24873c51b button.colab-df-convert');\n",
              "        buttonEl.style.display =\n",
              "          google.colab.kernel.accessAllowed ? 'block' : 'none';\n",
              "\n",
              "        async function convertToInteractive(key) {\n",
              "          const element = document.querySelector('#df-c12cd89d-19dc-4a18-9794-58c24873c51b');\n",
              "          const dataTable =\n",
              "            await google.colab.kernel.invokeFunction('convertToInteractive',\n",
              "                                                     [key], {});\n",
              "          if (!dataTable) return;\n",
              "\n",
              "          const docLinkHtml = 'Like what you see? Visit the ' +\n",
              "            '<a target=\"_blank\" href=https://colab.research.google.com/notebooks/data_table.ipynb>data table notebook</a>'\n",
              "            + ' to learn more about interactive tables.';\n",
              "          element.innerHTML = '';\n",
              "          dataTable['output_type'] = 'display_data';\n",
              "          await google.colab.output.renderOutput(dataTable, element);\n",
              "          const docLink = document.createElement('div');\n",
              "          docLink.innerHTML = docLinkHtml;\n",
              "          element.appendChild(docLink);\n",
              "        }\n",
              "      </script>\n",
              "    </div>\n",
              "  </div>\n",
              "  "
            ]
          },
          "metadata": {},
          "execution_count": 17
        }
      ]
    },
    {
      "cell_type": "code",
      "source": [
        "df1.info()\n",
        "# To get a quick insight of the dataset, non null count and data type of each column"
      ],
      "metadata": {
        "colab": {
          "base_uri": "https://localhost:8080/"
        },
        "id": "qDDJDdS3p2_D",
        "outputId": "a2d35594-cfe0-4f32-dd10-7168d2f7a862"
      },
      "execution_count": 19,
      "outputs": [
        {
          "output_type": "stream",
          "name": "stdout",
          "text": [
            "<class 'pandas.core.frame.DataFrame'>\n",
            "RangeIndex: 1013 entries, 0 to 1012\n",
            "Data columns (total 8 columns):\n",
            " #   Column                      Non-Null Count  Dtype  \n",
            "---  ------                      --------------  -----  \n",
            " 0   degree                      1013 non-null   int64  \n",
            " 1   masters                     1013 non-null   int64  \n",
            " 2   professional_membership     1013 non-null   int64  \n",
            " 3   years_experience            1013 non-null   int64  \n",
            " 4   audit_experience            1013 non-null   int64  \n",
            " 5   IT_skill_rate               1013 non-null   float64\n",
            " 6   Size_of_the_company_worked  1013 non-null   int64  \n",
            " 7   salary_per_year             1013 non-null   int64  \n",
            "dtypes: float64(1), int64(7)\n",
            "memory usage: 63.4 KB\n"
          ]
        }
      ]
    },
    {
      "cell_type": "code",
      "source": [
        "df1.describe()\n",
        "# Quick statistical summary of the data"
      ],
      "metadata": {
        "colab": {
          "base_uri": "https://localhost:8080/",
          "height": 364
        },
        "id": "T_UOSOyZtk31",
        "outputId": "11a137d5-16c1-4f5c-b9f9-bb46ac4f9a5e"
      },
      "execution_count": 21,
      "outputs": [
        {
          "output_type": "execute_result",
          "data": {
            "text/plain": [
              "            degree      masters  professional_membership  years_experience  \\\n",
              "count  1013.000000  1013.000000              1013.000000       1013.000000   \n",
              "mean      0.991115     0.992103                 0.514314          8.599210   \n",
              "std       0.093884     0.816055                 0.500042          3.950944   \n",
              "min       0.000000     0.000000                 0.000000          2.000000   \n",
              "25%       1.000000     0.000000                 0.000000          5.000000   \n",
              "50%       1.000000     1.000000                 1.000000          9.000000   \n",
              "75%       1.000000     2.000000                 1.000000         12.000000   \n",
              "max       1.000000     2.000000                 1.000000         15.000000   \n",
              "\n",
              "       audit_experience  IT_skill_rate  Size_of_the_company_worked  \\\n",
              "count       1013.000000    1013.000000                 1013.000000   \n",
              "mean           2.508391       5.532280                    2.451135   \n",
              "std            1.730675       2.604028                    1.128516   \n",
              "min            0.000000       1.000000                    1.000000   \n",
              "25%            1.000000       3.300000                    1.000000   \n",
              "50%            3.000000       5.500000                    2.000000   \n",
              "75%            4.000000       7.900000                    3.000000   \n",
              "max            5.000000       9.900000                    4.000000   \n",
              "\n",
              "       salary_per_year  \n",
              "count      1013.000000  \n",
              "mean      94359.632774  \n",
              "std        8526.685211  \n",
              "min       69373.000000  \n",
              "25%       88544.000000  \n",
              "50%       93870.000000  \n",
              "75%      100299.000000  \n",
              "max      119708.000000  "
            ],
            "text/html": [
              "\n",
              "  <div id=\"df-df9529c7-3635-4df0-807b-eedb2e8e1baf\">\n",
              "    <div class=\"colab-df-container\">\n",
              "      <div>\n",
              "<style scoped>\n",
              "    .dataframe tbody tr th:only-of-type {\n",
              "        vertical-align: middle;\n",
              "    }\n",
              "\n",
              "    .dataframe tbody tr th {\n",
              "        vertical-align: top;\n",
              "    }\n",
              "\n",
              "    .dataframe thead th {\n",
              "        text-align: right;\n",
              "    }\n",
              "</style>\n",
              "<table border=\"1\" class=\"dataframe\">\n",
              "  <thead>\n",
              "    <tr style=\"text-align: right;\">\n",
              "      <th></th>\n",
              "      <th>degree</th>\n",
              "      <th>masters</th>\n",
              "      <th>professional_membership</th>\n",
              "      <th>years_experience</th>\n",
              "      <th>audit_experience</th>\n",
              "      <th>IT_skill_rate</th>\n",
              "      <th>Size_of_the_company_worked</th>\n",
              "      <th>salary_per_year</th>\n",
              "    </tr>\n",
              "  </thead>\n",
              "  <tbody>\n",
              "    <tr>\n",
              "      <th>count</th>\n",
              "      <td>1013.000000</td>\n",
              "      <td>1013.000000</td>\n",
              "      <td>1013.000000</td>\n",
              "      <td>1013.000000</td>\n",
              "      <td>1013.000000</td>\n",
              "      <td>1013.000000</td>\n",
              "      <td>1013.000000</td>\n",
              "      <td>1013.000000</td>\n",
              "    </tr>\n",
              "    <tr>\n",
              "      <th>mean</th>\n",
              "      <td>0.991115</td>\n",
              "      <td>0.992103</td>\n",
              "      <td>0.514314</td>\n",
              "      <td>8.599210</td>\n",
              "      <td>2.508391</td>\n",
              "      <td>5.532280</td>\n",
              "      <td>2.451135</td>\n",
              "      <td>94359.632774</td>\n",
              "    </tr>\n",
              "    <tr>\n",
              "      <th>std</th>\n",
              "      <td>0.093884</td>\n",
              "      <td>0.816055</td>\n",
              "      <td>0.500042</td>\n",
              "      <td>3.950944</td>\n",
              "      <td>1.730675</td>\n",
              "      <td>2.604028</td>\n",
              "      <td>1.128516</td>\n",
              "      <td>8526.685211</td>\n",
              "    </tr>\n",
              "    <tr>\n",
              "      <th>min</th>\n",
              "      <td>0.000000</td>\n",
              "      <td>0.000000</td>\n",
              "      <td>0.000000</td>\n",
              "      <td>2.000000</td>\n",
              "      <td>0.000000</td>\n",
              "      <td>1.000000</td>\n",
              "      <td>1.000000</td>\n",
              "      <td>69373.000000</td>\n",
              "    </tr>\n",
              "    <tr>\n",
              "      <th>25%</th>\n",
              "      <td>1.000000</td>\n",
              "      <td>0.000000</td>\n",
              "      <td>0.000000</td>\n",
              "      <td>5.000000</td>\n",
              "      <td>1.000000</td>\n",
              "      <td>3.300000</td>\n",
              "      <td>1.000000</td>\n",
              "      <td>88544.000000</td>\n",
              "    </tr>\n",
              "    <tr>\n",
              "      <th>50%</th>\n",
              "      <td>1.000000</td>\n",
              "      <td>1.000000</td>\n",
              "      <td>1.000000</td>\n",
              "      <td>9.000000</td>\n",
              "      <td>3.000000</td>\n",
              "      <td>5.500000</td>\n",
              "      <td>2.000000</td>\n",
              "      <td>93870.000000</td>\n",
              "    </tr>\n",
              "    <tr>\n",
              "      <th>75%</th>\n",
              "      <td>1.000000</td>\n",
              "      <td>2.000000</td>\n",
              "      <td>1.000000</td>\n",
              "      <td>12.000000</td>\n",
              "      <td>4.000000</td>\n",
              "      <td>7.900000</td>\n",
              "      <td>3.000000</td>\n",
              "      <td>100299.000000</td>\n",
              "    </tr>\n",
              "    <tr>\n",
              "      <th>max</th>\n",
              "      <td>1.000000</td>\n",
              "      <td>2.000000</td>\n",
              "      <td>1.000000</td>\n",
              "      <td>15.000000</td>\n",
              "      <td>5.000000</td>\n",
              "      <td>9.900000</td>\n",
              "      <td>4.000000</td>\n",
              "      <td>119708.000000</td>\n",
              "    </tr>\n",
              "  </tbody>\n",
              "</table>\n",
              "</div>\n",
              "      <button class=\"colab-df-convert\" onclick=\"convertToInteractive('df-df9529c7-3635-4df0-807b-eedb2e8e1baf')\"\n",
              "              title=\"Convert this dataframe to an interactive table.\"\n",
              "              style=\"display:none;\">\n",
              "        \n",
              "  <svg xmlns=\"http://www.w3.org/2000/svg\" height=\"24px\"viewBox=\"0 0 24 24\"\n",
              "       width=\"24px\">\n",
              "    <path d=\"M0 0h24v24H0V0z\" fill=\"none\"/>\n",
              "    <path d=\"M18.56 5.44l.94 2.06.94-2.06 2.06-.94-2.06-.94-.94-2.06-.94 2.06-2.06.94zm-11 1L8.5 8.5l.94-2.06 2.06-.94-2.06-.94L8.5 2.5l-.94 2.06-2.06.94zm10 10l.94 2.06.94-2.06 2.06-.94-2.06-.94-.94-2.06-.94 2.06-2.06.94z\"/><path d=\"M17.41 7.96l-1.37-1.37c-.4-.4-.92-.59-1.43-.59-.52 0-1.04.2-1.43.59L10.3 9.45l-7.72 7.72c-.78.78-.78 2.05 0 2.83L4 21.41c.39.39.9.59 1.41.59.51 0 1.02-.2 1.41-.59l7.78-7.78 2.81-2.81c.8-.78.8-2.07 0-2.86zM5.41 20L4 18.59l7.72-7.72 1.47 1.35L5.41 20z\"/>\n",
              "  </svg>\n",
              "      </button>\n",
              "      \n",
              "  <style>\n",
              "    .colab-df-container {\n",
              "      display:flex;\n",
              "      flex-wrap:wrap;\n",
              "      gap: 12px;\n",
              "    }\n",
              "\n",
              "    .colab-df-convert {\n",
              "      background-color: #E8F0FE;\n",
              "      border: none;\n",
              "      border-radius: 50%;\n",
              "      cursor: pointer;\n",
              "      display: none;\n",
              "      fill: #1967D2;\n",
              "      height: 32px;\n",
              "      padding: 0 0 0 0;\n",
              "      width: 32px;\n",
              "    }\n",
              "\n",
              "    .colab-df-convert:hover {\n",
              "      background-color: #E2EBFA;\n",
              "      box-shadow: 0px 1px 2px rgba(60, 64, 67, 0.3), 0px 1px 3px 1px rgba(60, 64, 67, 0.15);\n",
              "      fill: #174EA6;\n",
              "    }\n",
              "\n",
              "    [theme=dark] .colab-df-convert {\n",
              "      background-color: #3B4455;\n",
              "      fill: #D2E3FC;\n",
              "    }\n",
              "\n",
              "    [theme=dark] .colab-df-convert:hover {\n",
              "      background-color: #434B5C;\n",
              "      box-shadow: 0px 1px 3px 1px rgba(0, 0, 0, 0.15);\n",
              "      filter: drop-shadow(0px 1px 2px rgba(0, 0, 0, 0.3));\n",
              "      fill: #FFFFFF;\n",
              "    }\n",
              "  </style>\n",
              "\n",
              "      <script>\n",
              "        const buttonEl =\n",
              "          document.querySelector('#df-df9529c7-3635-4df0-807b-eedb2e8e1baf button.colab-df-convert');\n",
              "        buttonEl.style.display =\n",
              "          google.colab.kernel.accessAllowed ? 'block' : 'none';\n",
              "\n",
              "        async function convertToInteractive(key) {\n",
              "          const element = document.querySelector('#df-df9529c7-3635-4df0-807b-eedb2e8e1baf');\n",
              "          const dataTable =\n",
              "            await google.colab.kernel.invokeFunction('convertToInteractive',\n",
              "                                                     [key], {});\n",
              "          if (!dataTable) return;\n",
              "\n",
              "          const docLinkHtml = 'Like what you see? Visit the ' +\n",
              "            '<a target=\"_blank\" href=https://colab.research.google.com/notebooks/data_table.ipynb>data table notebook</a>'\n",
              "            + ' to learn more about interactive tables.';\n",
              "          element.innerHTML = '';\n",
              "          dataTable['output_type'] = 'display_data';\n",
              "          await google.colab.output.renderOutput(dataTable, element);\n",
              "          const docLink = document.createElement('div');\n",
              "          docLink.innerHTML = docLinkHtml;\n",
              "          element.appendChild(docLink);\n",
              "        }\n",
              "      </script>\n",
              "    </div>\n",
              "  </div>\n",
              "  "
            ]
          },
          "metadata": {},
          "execution_count": 21
        }
      ]
    },
    {
      "cell_type": "code",
      "source": [
        "df1.describe().transpose()\n",
        "# easier to read data"
      ],
      "metadata": {
        "colab": {
          "base_uri": "https://localhost:8080/",
          "height": 300
        },
        "id": "qV-s4AvatwSx",
        "outputId": "37178cd0-8a92-42af-a61c-bf5986baabc4"
      },
      "execution_count": 23,
      "outputs": [
        {
          "output_type": "execute_result",
          "data": {
            "text/plain": [
              "                             count          mean          std      min  \\\n",
              "degree                      1013.0      0.991115     0.093884      0.0   \n",
              "masters                     1013.0      0.992103     0.816055      0.0   \n",
              "professional_membership     1013.0      0.514314     0.500042      0.0   \n",
              "years_experience            1013.0      8.599210     3.950944      2.0   \n",
              "audit_experience            1013.0      2.508391     1.730675      0.0   \n",
              "IT_skill_rate               1013.0      5.532280     2.604028      1.0   \n",
              "Size_of_the_company_worked  1013.0      2.451135     1.128516      1.0   \n",
              "salary_per_year             1013.0  94359.632774  8526.685211  69373.0   \n",
              "\n",
              "                                25%      50%       75%       max  \n",
              "degree                          1.0      1.0       1.0       1.0  \n",
              "masters                         0.0      1.0       2.0       2.0  \n",
              "professional_membership         0.0      1.0       1.0       1.0  \n",
              "years_experience                5.0      9.0      12.0      15.0  \n",
              "audit_experience                1.0      3.0       4.0       5.0  \n",
              "IT_skill_rate                   3.3      5.5       7.9       9.9  \n",
              "Size_of_the_company_worked      1.0      2.0       3.0       4.0  \n",
              "salary_per_year             88544.0  93870.0  100299.0  119708.0  "
            ],
            "text/html": [
              "\n",
              "  <div id=\"df-4667e0f4-c39d-41e2-802a-87c0f30b3147\">\n",
              "    <div class=\"colab-df-container\">\n",
              "      <div>\n",
              "<style scoped>\n",
              "    .dataframe tbody tr th:only-of-type {\n",
              "        vertical-align: middle;\n",
              "    }\n",
              "\n",
              "    .dataframe tbody tr th {\n",
              "        vertical-align: top;\n",
              "    }\n",
              "\n",
              "    .dataframe thead th {\n",
              "        text-align: right;\n",
              "    }\n",
              "</style>\n",
              "<table border=\"1\" class=\"dataframe\">\n",
              "  <thead>\n",
              "    <tr style=\"text-align: right;\">\n",
              "      <th></th>\n",
              "      <th>count</th>\n",
              "      <th>mean</th>\n",
              "      <th>std</th>\n",
              "      <th>min</th>\n",
              "      <th>25%</th>\n",
              "      <th>50%</th>\n",
              "      <th>75%</th>\n",
              "      <th>max</th>\n",
              "    </tr>\n",
              "  </thead>\n",
              "  <tbody>\n",
              "    <tr>\n",
              "      <th>degree</th>\n",
              "      <td>1013.0</td>\n",
              "      <td>0.991115</td>\n",
              "      <td>0.093884</td>\n",
              "      <td>0.0</td>\n",
              "      <td>1.0</td>\n",
              "      <td>1.0</td>\n",
              "      <td>1.0</td>\n",
              "      <td>1.0</td>\n",
              "    </tr>\n",
              "    <tr>\n",
              "      <th>masters</th>\n",
              "      <td>1013.0</td>\n",
              "      <td>0.992103</td>\n",
              "      <td>0.816055</td>\n",
              "      <td>0.0</td>\n",
              "      <td>0.0</td>\n",
              "      <td>1.0</td>\n",
              "      <td>2.0</td>\n",
              "      <td>2.0</td>\n",
              "    </tr>\n",
              "    <tr>\n",
              "      <th>professional_membership</th>\n",
              "      <td>1013.0</td>\n",
              "      <td>0.514314</td>\n",
              "      <td>0.500042</td>\n",
              "      <td>0.0</td>\n",
              "      <td>0.0</td>\n",
              "      <td>1.0</td>\n",
              "      <td>1.0</td>\n",
              "      <td>1.0</td>\n",
              "    </tr>\n",
              "    <tr>\n",
              "      <th>years_experience</th>\n",
              "      <td>1013.0</td>\n",
              "      <td>8.599210</td>\n",
              "      <td>3.950944</td>\n",
              "      <td>2.0</td>\n",
              "      <td>5.0</td>\n",
              "      <td>9.0</td>\n",
              "      <td>12.0</td>\n",
              "      <td>15.0</td>\n",
              "    </tr>\n",
              "    <tr>\n",
              "      <th>audit_experience</th>\n",
              "      <td>1013.0</td>\n",
              "      <td>2.508391</td>\n",
              "      <td>1.730675</td>\n",
              "      <td>0.0</td>\n",
              "      <td>1.0</td>\n",
              "      <td>3.0</td>\n",
              "      <td>4.0</td>\n",
              "      <td>5.0</td>\n",
              "    </tr>\n",
              "    <tr>\n",
              "      <th>IT_skill_rate</th>\n",
              "      <td>1013.0</td>\n",
              "      <td>5.532280</td>\n",
              "      <td>2.604028</td>\n",
              "      <td>1.0</td>\n",
              "      <td>3.3</td>\n",
              "      <td>5.5</td>\n",
              "      <td>7.9</td>\n",
              "      <td>9.9</td>\n",
              "    </tr>\n",
              "    <tr>\n",
              "      <th>Size_of_the_company_worked</th>\n",
              "      <td>1013.0</td>\n",
              "      <td>2.451135</td>\n",
              "      <td>1.128516</td>\n",
              "      <td>1.0</td>\n",
              "      <td>1.0</td>\n",
              "      <td>2.0</td>\n",
              "      <td>3.0</td>\n",
              "      <td>4.0</td>\n",
              "    </tr>\n",
              "    <tr>\n",
              "      <th>salary_per_year</th>\n",
              "      <td>1013.0</td>\n",
              "      <td>94359.632774</td>\n",
              "      <td>8526.685211</td>\n",
              "      <td>69373.0</td>\n",
              "      <td>88544.0</td>\n",
              "      <td>93870.0</td>\n",
              "      <td>100299.0</td>\n",
              "      <td>119708.0</td>\n",
              "    </tr>\n",
              "  </tbody>\n",
              "</table>\n",
              "</div>\n",
              "      <button class=\"colab-df-convert\" onclick=\"convertToInteractive('df-4667e0f4-c39d-41e2-802a-87c0f30b3147')\"\n",
              "              title=\"Convert this dataframe to an interactive table.\"\n",
              "              style=\"display:none;\">\n",
              "        \n",
              "  <svg xmlns=\"http://www.w3.org/2000/svg\" height=\"24px\"viewBox=\"0 0 24 24\"\n",
              "       width=\"24px\">\n",
              "    <path d=\"M0 0h24v24H0V0z\" fill=\"none\"/>\n",
              "    <path d=\"M18.56 5.44l.94 2.06.94-2.06 2.06-.94-2.06-.94-.94-2.06-.94 2.06-2.06.94zm-11 1L8.5 8.5l.94-2.06 2.06-.94-2.06-.94L8.5 2.5l-.94 2.06-2.06.94zm10 10l.94 2.06.94-2.06 2.06-.94-2.06-.94-.94-2.06-.94 2.06-2.06.94z\"/><path d=\"M17.41 7.96l-1.37-1.37c-.4-.4-.92-.59-1.43-.59-.52 0-1.04.2-1.43.59L10.3 9.45l-7.72 7.72c-.78.78-.78 2.05 0 2.83L4 21.41c.39.39.9.59 1.41.59.51 0 1.02-.2 1.41-.59l7.78-7.78 2.81-2.81c.8-.78.8-2.07 0-2.86zM5.41 20L4 18.59l7.72-7.72 1.47 1.35L5.41 20z\"/>\n",
              "  </svg>\n",
              "      </button>\n",
              "      \n",
              "  <style>\n",
              "    .colab-df-container {\n",
              "      display:flex;\n",
              "      flex-wrap:wrap;\n",
              "      gap: 12px;\n",
              "    }\n",
              "\n",
              "    .colab-df-convert {\n",
              "      background-color: #E8F0FE;\n",
              "      border: none;\n",
              "      border-radius: 50%;\n",
              "      cursor: pointer;\n",
              "      display: none;\n",
              "      fill: #1967D2;\n",
              "      height: 32px;\n",
              "      padding: 0 0 0 0;\n",
              "      width: 32px;\n",
              "    }\n",
              "\n",
              "    .colab-df-convert:hover {\n",
              "      background-color: #E2EBFA;\n",
              "      box-shadow: 0px 1px 2px rgba(60, 64, 67, 0.3), 0px 1px 3px 1px rgba(60, 64, 67, 0.15);\n",
              "      fill: #174EA6;\n",
              "    }\n",
              "\n",
              "    [theme=dark] .colab-df-convert {\n",
              "      background-color: #3B4455;\n",
              "      fill: #D2E3FC;\n",
              "    }\n",
              "\n",
              "    [theme=dark] .colab-df-convert:hover {\n",
              "      background-color: #434B5C;\n",
              "      box-shadow: 0px 1px 3px 1px rgba(0, 0, 0, 0.15);\n",
              "      filter: drop-shadow(0px 1px 2px rgba(0, 0, 0, 0.3));\n",
              "      fill: #FFFFFF;\n",
              "    }\n",
              "  </style>\n",
              "\n",
              "      <script>\n",
              "        const buttonEl =\n",
              "          document.querySelector('#df-4667e0f4-c39d-41e2-802a-87c0f30b3147 button.colab-df-convert');\n",
              "        buttonEl.style.display =\n",
              "          google.colab.kernel.accessAllowed ? 'block' : 'none';\n",
              "\n",
              "        async function convertToInteractive(key) {\n",
              "          const element = document.querySelector('#df-4667e0f4-c39d-41e2-802a-87c0f30b3147');\n",
              "          const dataTable =\n",
              "            await google.colab.kernel.invokeFunction('convertToInteractive',\n",
              "                                                     [key], {});\n",
              "          if (!dataTable) return;\n",
              "\n",
              "          const docLinkHtml = 'Like what you see? Visit the ' +\n",
              "            '<a target=\"_blank\" href=https://colab.research.google.com/notebooks/data_table.ipynb>data table notebook</a>'\n",
              "            + ' to learn more about interactive tables.';\n",
              "          element.innerHTML = '';\n",
              "          dataTable['output_type'] = 'display_data';\n",
              "          await google.colab.output.renderOutput(dataTable, element);\n",
              "          const docLink = document.createElement('div');\n",
              "          docLink.innerHTML = docLinkHtml;\n",
              "          element.appendChild(docLink);\n",
              "        }\n",
              "      </script>\n",
              "    </div>\n",
              "  </div>\n",
              "  "
            ]
          },
          "metadata": {},
          "execution_count": 23
        }
      ]
    },
    {
      "cell_type": "code",
      "source": [
        "df1['salary_per_year']"
      ],
      "metadata": {
        "colab": {
          "base_uri": "https://localhost:8080/"
        },
        "id": "laAba_sBt6Z0",
        "outputId": "e5b02689-85e7-4e7b-be7e-6e754e1967f9"
      },
      "execution_count": 24,
      "outputs": [
        {
          "output_type": "execute_result",
          "data": {
            "text/plain": [
              "0        89661\n",
              "1       105336\n",
              "2        91402\n",
              "3        96137\n",
              "4       113364\n",
              "         ...  \n",
              "1008     96438\n",
              "1009     85523\n",
              "1010    100476\n",
              "1011    107083\n",
              "1012     82310\n",
              "Name: salary_per_year, Length: 1013, dtype: int64"
            ]
          },
          "metadata": {},
          "execution_count": 24
        }
      ]
    },
    {
      "cell_type": "code",
      "source": [
        "df1['salary_per_year'] > 115000"
      ],
      "metadata": {
        "colab": {
          "base_uri": "https://localhost:8080/"
        },
        "id": "iOkpo_HXuIuq",
        "outputId": "9413e4fe-ff7e-405f-b88b-bc4a3285e9df"
      },
      "execution_count": 25,
      "outputs": [
        {
          "output_type": "execute_result",
          "data": {
            "text/plain": [
              "0       False\n",
              "1       False\n",
              "2       False\n",
              "3       False\n",
              "4       False\n",
              "        ...  \n",
              "1008    False\n",
              "1009    False\n",
              "1010    False\n",
              "1011    False\n",
              "1012    False\n",
              "Name: salary_per_year, Length: 1013, dtype: bool"
            ]
          },
          "metadata": {},
          "execution_count": 25
        }
      ]
    },
    {
      "cell_type": "code",
      "source": [
        "max(df1['salary_per_year'])"
      ],
      "metadata": {
        "colab": {
          "base_uri": "https://localhost:8080/"
        },
        "id": "EMpt9eW8uRgn",
        "outputId": "785977af-dd44-449f-adf5-24618e12f826"
      },
      "execution_count": 26,
      "outputs": [
        {
          "output_type": "execute_result",
          "data": {
            "text/plain": [
              "119708"
            ]
          },
          "metadata": {},
          "execution_count": 26
        }
      ]
    },
    {
      "cell_type": "code",
      "source": [
        "min(df1['salary_per_year'])"
      ],
      "metadata": {
        "colab": {
          "base_uri": "https://localhost:8080/"
        },
        "id": "Ze39RtHbuahT",
        "outputId": "70856a48-21d0-4f18-a840-84fbdfa6d1c6"
      },
      "execution_count": 27,
      "outputs": [
        {
          "output_type": "execute_result",
          "data": {
            "text/plain": [
              "69373"
            ]
          },
          "metadata": {},
          "execution_count": 27
        }
      ]
    },
    {
      "cell_type": "code",
      "source": [
        "df1[df1['salary_per_year'] > 115000]"
      ],
      "metadata": {
        "colab": {
          "base_uri": "https://localhost:8080/",
          "height": 281
        },
        "id": "5ZaSipmLubk3",
        "outputId": "b3f78d30-8eb2-46ff-927e-7e2e88306026"
      },
      "execution_count": 28,
      "outputs": [
        {
          "output_type": "execute_result",
          "data": {
            "text/plain": [
              "     degree  masters  professional_membership  years_experience  \\\n",
              "97        1        2                        1                14   \n",
              "218       1        2                        1                15   \n",
              "447       1        2                        1                14   \n",
              "636       1        2                        1                15   \n",
              "749       1        0                        1                15   \n",
              "878       1        1                        1                14   \n",
              "\n",
              "     audit_experience  IT_skill_rate  Size_of_the_company_worked  \\\n",
              "97                  5            5.6                           3   \n",
              "218                 4            4.4                           2   \n",
              "447                 4            7.3                           3   \n",
              "636                 4            7.5                           2   \n",
              "749                 5            8.4                           1   \n",
              "878                 5            8.3                           2   \n",
              "\n",
              "     salary_per_year  \n",
              "97            115944  \n",
              "218           115506  \n",
              "447           116815  \n",
              "636           119708  \n",
              "749           116087  \n",
              "878           118072  "
            ],
            "text/html": [
              "\n",
              "  <div id=\"df-9de072d2-370a-41a3-b5d9-3e88829afb5a\">\n",
              "    <div class=\"colab-df-container\">\n",
              "      <div>\n",
              "<style scoped>\n",
              "    .dataframe tbody tr th:only-of-type {\n",
              "        vertical-align: middle;\n",
              "    }\n",
              "\n",
              "    .dataframe tbody tr th {\n",
              "        vertical-align: top;\n",
              "    }\n",
              "\n",
              "    .dataframe thead th {\n",
              "        text-align: right;\n",
              "    }\n",
              "</style>\n",
              "<table border=\"1\" class=\"dataframe\">\n",
              "  <thead>\n",
              "    <tr style=\"text-align: right;\">\n",
              "      <th></th>\n",
              "      <th>degree</th>\n",
              "      <th>masters</th>\n",
              "      <th>professional_membership</th>\n",
              "      <th>years_experience</th>\n",
              "      <th>audit_experience</th>\n",
              "      <th>IT_skill_rate</th>\n",
              "      <th>Size_of_the_company_worked</th>\n",
              "      <th>salary_per_year</th>\n",
              "    </tr>\n",
              "  </thead>\n",
              "  <tbody>\n",
              "    <tr>\n",
              "      <th>97</th>\n",
              "      <td>1</td>\n",
              "      <td>2</td>\n",
              "      <td>1</td>\n",
              "      <td>14</td>\n",
              "      <td>5</td>\n",
              "      <td>5.6</td>\n",
              "      <td>3</td>\n",
              "      <td>115944</td>\n",
              "    </tr>\n",
              "    <tr>\n",
              "      <th>218</th>\n",
              "      <td>1</td>\n",
              "      <td>2</td>\n",
              "      <td>1</td>\n",
              "      <td>15</td>\n",
              "      <td>4</td>\n",
              "      <td>4.4</td>\n",
              "      <td>2</td>\n",
              "      <td>115506</td>\n",
              "    </tr>\n",
              "    <tr>\n",
              "      <th>447</th>\n",
              "      <td>1</td>\n",
              "      <td>2</td>\n",
              "      <td>1</td>\n",
              "      <td>14</td>\n",
              "      <td>4</td>\n",
              "      <td>7.3</td>\n",
              "      <td>3</td>\n",
              "      <td>116815</td>\n",
              "    </tr>\n",
              "    <tr>\n",
              "      <th>636</th>\n",
              "      <td>1</td>\n",
              "      <td>2</td>\n",
              "      <td>1</td>\n",
              "      <td>15</td>\n",
              "      <td>4</td>\n",
              "      <td>7.5</td>\n",
              "      <td>2</td>\n",
              "      <td>119708</td>\n",
              "    </tr>\n",
              "    <tr>\n",
              "      <th>749</th>\n",
              "      <td>1</td>\n",
              "      <td>0</td>\n",
              "      <td>1</td>\n",
              "      <td>15</td>\n",
              "      <td>5</td>\n",
              "      <td>8.4</td>\n",
              "      <td>1</td>\n",
              "      <td>116087</td>\n",
              "    </tr>\n",
              "    <tr>\n",
              "      <th>878</th>\n",
              "      <td>1</td>\n",
              "      <td>1</td>\n",
              "      <td>1</td>\n",
              "      <td>14</td>\n",
              "      <td>5</td>\n",
              "      <td>8.3</td>\n",
              "      <td>2</td>\n",
              "      <td>118072</td>\n",
              "    </tr>\n",
              "  </tbody>\n",
              "</table>\n",
              "</div>\n",
              "      <button class=\"colab-df-convert\" onclick=\"convertToInteractive('df-9de072d2-370a-41a3-b5d9-3e88829afb5a')\"\n",
              "              title=\"Convert this dataframe to an interactive table.\"\n",
              "              style=\"display:none;\">\n",
              "        \n",
              "  <svg xmlns=\"http://www.w3.org/2000/svg\" height=\"24px\"viewBox=\"0 0 24 24\"\n",
              "       width=\"24px\">\n",
              "    <path d=\"M0 0h24v24H0V0z\" fill=\"none\"/>\n",
              "    <path d=\"M18.56 5.44l.94 2.06.94-2.06 2.06-.94-2.06-.94-.94-2.06-.94 2.06-2.06.94zm-11 1L8.5 8.5l.94-2.06 2.06-.94-2.06-.94L8.5 2.5l-.94 2.06-2.06.94zm10 10l.94 2.06.94-2.06 2.06-.94-2.06-.94-.94-2.06-.94 2.06-2.06.94z\"/><path d=\"M17.41 7.96l-1.37-1.37c-.4-.4-.92-.59-1.43-.59-.52 0-1.04.2-1.43.59L10.3 9.45l-7.72 7.72c-.78.78-.78 2.05 0 2.83L4 21.41c.39.39.9.59 1.41.59.51 0 1.02-.2 1.41-.59l7.78-7.78 2.81-2.81c.8-.78.8-2.07 0-2.86zM5.41 20L4 18.59l7.72-7.72 1.47 1.35L5.41 20z\"/>\n",
              "  </svg>\n",
              "      </button>\n",
              "      \n",
              "  <style>\n",
              "    .colab-df-container {\n",
              "      display:flex;\n",
              "      flex-wrap:wrap;\n",
              "      gap: 12px;\n",
              "    }\n",
              "\n",
              "    .colab-df-convert {\n",
              "      background-color: #E8F0FE;\n",
              "      border: none;\n",
              "      border-radius: 50%;\n",
              "      cursor: pointer;\n",
              "      display: none;\n",
              "      fill: #1967D2;\n",
              "      height: 32px;\n",
              "      padding: 0 0 0 0;\n",
              "      width: 32px;\n",
              "    }\n",
              "\n",
              "    .colab-df-convert:hover {\n",
              "      background-color: #E2EBFA;\n",
              "      box-shadow: 0px 1px 2px rgba(60, 64, 67, 0.3), 0px 1px 3px 1px rgba(60, 64, 67, 0.15);\n",
              "      fill: #174EA6;\n",
              "    }\n",
              "\n",
              "    [theme=dark] .colab-df-convert {\n",
              "      background-color: #3B4455;\n",
              "      fill: #D2E3FC;\n",
              "    }\n",
              "\n",
              "    [theme=dark] .colab-df-convert:hover {\n",
              "      background-color: #434B5C;\n",
              "      box-shadow: 0px 1px 3px 1px rgba(0, 0, 0, 0.15);\n",
              "      filter: drop-shadow(0px 1px 2px rgba(0, 0, 0, 0.3));\n",
              "      fill: #FFFFFF;\n",
              "    }\n",
              "  </style>\n",
              "\n",
              "      <script>\n",
              "        const buttonEl =\n",
              "          document.querySelector('#df-9de072d2-370a-41a3-b5d9-3e88829afb5a button.colab-df-convert');\n",
              "        buttonEl.style.display =\n",
              "          google.colab.kernel.accessAllowed ? 'block' : 'none';\n",
              "\n",
              "        async function convertToInteractive(key) {\n",
              "          const element = document.querySelector('#df-9de072d2-370a-41a3-b5d9-3e88829afb5a');\n",
              "          const dataTable =\n",
              "            await google.colab.kernel.invokeFunction('convertToInteractive',\n",
              "                                                     [key], {});\n",
              "          if (!dataTable) return;\n",
              "\n",
              "          const docLinkHtml = 'Like what you see? Visit the ' +\n",
              "            '<a target=\"_blank\" href=https://colab.research.google.com/notebooks/data_table.ipynb>data table notebook</a>'\n",
              "            + ' to learn more about interactive tables.';\n",
              "          element.innerHTML = '';\n",
              "          dataTable['output_type'] = 'display_data';\n",
              "          await google.colab.output.renderOutput(dataTable, element);\n",
              "          const docLink = document.createElement('div');\n",
              "          docLink.innerHTML = docLinkHtml;\n",
              "          element.appendChild(docLink);\n",
              "        }\n",
              "      </script>\n",
              "    </div>\n",
              "  </div>\n",
              "  "
            ]
          },
          "metadata": {},
          "execution_count": 28
        }
      ]
    },
    {
      "cell_type": "code",
      "source": [
        "sns.distplot(df1['salary_per_year'])\n",
        "# check the distribution of salary\n",
        "# most of the accountants are drawing around 80.5k to 10.5k"
      ],
      "metadata": {
        "colab": {
          "base_uri": "https://localhost:8080/",
          "height": 363
        },
        "id": "KhKyEzB0umk8",
        "outputId": "c28af12c-4a6c-4457-b6d6-de785ae52e55"
      },
      "execution_count": 102,
      "outputs": [
        {
          "output_type": "stream",
          "name": "stderr",
          "text": [
            "/usr/local/lib/python3.7/dist-packages/seaborn/distributions.py:2619: FutureWarning: `distplot` is a deprecated function and will be removed in a future version. Please adapt your code to use either `displot` (a figure-level function with similar flexibility) or `histplot` (an axes-level function for histograms).\n",
            "  warnings.warn(msg, FutureWarning)\n"
          ]
        },
        {
          "output_type": "execute_result",
          "data": {
            "text/plain": [
              "<matplotlib.axes._subplots.AxesSubplot at 0x7ffac56d66d0>"
            ]
          },
          "metadata": {},
          "execution_count": 102
        },
        {
          "output_type": "display_data",
          "data": {
            "text/plain": [
              "<Figure size 432x288 with 1 Axes>"
            ],
            "image/png": "[encoded data removed]"
          },
          "metadata": {
            "needs_background": "light"
          }
        }
      ]
    },
    {
      "cell_type": "code",
      "source": [
        "df1.corr()\n",
        "# How are features correlated to each other"
      ],
      "metadata": {
        "colab": {
          "base_uri": "https://localhost:8080/",
          "height": 364
        },
        "id": "XIz6FNOuutXs",
        "outputId": "f5e60a2e-af40-457a-c624-20670e989a95"
      },
      "execution_count": 104,
      "outputs": [
        {
          "output_type": "execute_result",
          "data": {
            "text/plain": [
              "                              degree   masters  professional_membership  \\\n",
              "degree                      1.000000 -0.000917                -0.049910   \n",
              "masters                    -0.000917  1.000000                -0.060261   \n",
              "professional_membership    -0.049910 -0.060261                 1.000000   \n",
              "years_experience            0.019694  0.041311                -0.022102   \n",
              "audit_experience            0.009582 -0.039833                 0.013848   \n",
              "IT_skill_rate               0.037955 -0.023037                -0.022400   \n",
              "Size_of_the_company_worked  0.056521  0.031770                -0.061360   \n",
              "salary_per_year             0.059452  0.188059                 0.550464   \n",
              "\n",
              "                            years_experience  audit_experience  IT_skill_rate  \\\n",
              "degree                              0.019694          0.009582       0.037955   \n",
              "masters                             0.041311         -0.039833      -0.023037   \n",
              "professional_membership            -0.022102          0.013848      -0.022400   \n",
              "years_experience                    1.000000         -0.001964       0.004937   \n",
              "audit_experience                   -0.001964          1.000000      -0.052321   \n",
              "IT_skill_rate                       0.004937         -0.052321       1.000000   \n",
              "Size_of_the_company_worked         -0.046505         -0.024960      -0.007045   \n",
              "salary_per_year                     0.539229          0.376497       0.185843   \n",
              "\n",
              "                            Size_of_the_company_worked  salary_per_year  \n",
              "degree                                        0.056521         0.059452  \n",
              "masters                                       0.031770         0.188059  \n",
              "professional_membership                      -0.061360         0.550464  \n",
              "years_experience                             -0.046505         0.539229  \n",
              "audit_experience                             -0.024960         0.376497  \n",
              "IT_skill_rate                                -0.007045         0.185843  \n",
              "Size_of_the_company_worked                    1.000000         0.029152  \n",
              "salary_per_year                               0.029152         1.000000  "
            ],
            "text/html": [
              "\n",
              "  <div id=\"df-cc610147-e50a-45e2-b266-990fc0d13c74\">\n",
              "    <div class=\"colab-df-container\">\n",
              "      <div>\n",
              "<style scoped>\n",
              "    .dataframe tbody tr th:only-of-type {\n",
              "        vertical-align: middle;\n",
              "    }\n",
              "\n",
              "    .dataframe tbody tr th {\n",
              "        vertical-align: top;\n",
              "    }\n",
              "\n",
              "    .dataframe thead th {\n",
              "        text-align: right;\n",
              "    }\n",
              "</style>\n",
              "<table border=\"1\" class=\"dataframe\">\n",
              "  <thead>\n",
              "    <tr style=\"text-align: right;\">\n",
              "      <th></th>\n",
              "      <th>degree</th>\n",
              "      <th>masters</th>\n",
              "      <th>professional_membership</th>\n",
              "      <th>years_experience</th>\n",
              "      <th>audit_experience</th>\n",
              "      <th>IT_skill_rate</th>\n",
              "      <th>Size_of_the_company_worked</th>\n",
              "      <th>salary_per_year</th>\n",
              "    </tr>\n",
              "  </thead>\n",
              "  <tbody>\n",
              "    <tr>\n",
              "      <th>degree</th>\n",
              "      <td>1.000000</td>\n",
              "      <td>-0.000917</td>\n",
              "      <td>-0.049910</td>\n",
              "      <td>0.019694</td>\n",
              "      <td>0.009582</td>\n",
              "      <td>0.037955</td>\n",
              "      <td>0.056521</td>\n",
              "      <td>0.059452</td>\n",
              "    </tr>\n",
              "    <tr>\n",
              "      <th>masters</th>\n",
              "      <td>-0.000917</td>\n",
              "      <td>1.000000</td>\n",
              "      <td>-0.060261</td>\n",
              "      <td>0.041311</td>\n",
              "      <td>-0.039833</td>\n",
              "      <td>-0.023037</td>\n",
              "      <td>0.031770</td>\n",
              "      <td>0.188059</td>\n",
              "    </tr>\n",
              "    <tr>\n",
              "      <th>professional_membership</th>\n",
              "      <td>-0.049910</td>\n",
              "      <td>-0.060261</td>\n",
              "      <td>1.000000</td>\n",
              "      <td>-0.022102</td>\n",
              "      <td>0.013848</td>\n",
              "      <td>-0.022400</td>\n",
              "      <td>-0.061360</td>\n",
              "      <td>0.550464</td>\n",
              "    </tr>\n",
              "    <tr>\n",
              "      <th>years_experience</th>\n",
              "      <td>0.019694</td>\n",
              "      <td>0.041311</td>\n",
              "      <td>-0.022102</td>\n",
              "      <td>1.000000</td>\n",
              "      <td>-0.001964</td>\n",
              "      <td>0.004937</td>\n",
              "      <td>-0.046505</td>\n",
              "      <td>0.539229</td>\n",
              "    </tr>\n",
              "    <tr>\n",
              "      <th>audit_experience</th>\n",
              "      <td>0.009582</td>\n",
              "      <td>-0.039833</td>\n",
              "      <td>0.013848</td>\n",
              "      <td>-0.001964</td>\n",
              "      <td>1.000000</td>\n",
              "      <td>-0.052321</td>\n",
              "      <td>-0.024960</td>\n",
              "      <td>0.376497</td>\n",
              "    </tr>\n",
              "    <tr>\n",
              "      <th>IT_skill_rate</th>\n",
              "      <td>0.037955</td>\n",
              "      <td>-0.023037</td>\n",
              "      <td>-0.022400</td>\n",
              "      <td>0.004937</td>\n",
              "      <td>-0.052321</td>\n",
              "      <td>1.000000</td>\n",
              "      <td>-0.007045</td>\n",
              "      <td>0.185843</td>\n",
              "    </tr>\n",
              "    <tr>\n",
              "      <th>Size_of_the_company_worked</th>\n",
              "      <td>0.056521</td>\n",
              "      <td>0.031770</td>\n",
              "      <td>-0.061360</td>\n",
              "      <td>-0.046505</td>\n",
              "      <td>-0.024960</td>\n",
              "      <td>-0.007045</td>\n",
              "      <td>1.000000</td>\n",
              "      <td>0.029152</td>\n",
              "    </tr>\n",
              "    <tr>\n",
              "      <th>salary_per_year</th>\n",
              "      <td>0.059452</td>\n",
              "      <td>0.188059</td>\n",
              "      <td>0.550464</td>\n",
              "      <td>0.539229</td>\n",
              "      <td>0.376497</td>\n",
              "      <td>0.185843</td>\n",
              "      <td>0.029152</td>\n",
              "      <td>1.000000</td>\n",
              "    </tr>\n",
              "  </tbody>\n",
              "</table>\n",
              "</div>\n",
              "      <button class=\"colab-df-convert\" onclick=\"convertToInteractive('df-cc610147-e50a-45e2-b266-990fc0d13c74')\"\n",
              "              title=\"Convert this dataframe to an interactive table.\"\n",
              "              style=\"display:none;\">\n",
              "        \n",
              "  <svg xmlns=\"http://www.w3.org/2000/svg\" height=\"24px\"viewBox=\"0 0 24 24\"\n",
              "       width=\"24px\">\n",
              "    <path d=\"M0 0h24v24H0V0z\" fill=\"none\"/>\n",
              "    <path d=\"M18.56 5.44l.94 2.06.94-2.06 2.06-.94-2.06-.94-.94-2.06-.94 2.06-2.06.94zm-11 1L8.5 8.5l.94-2.06 2.06-.94-2.06-.94L8.5 2.5l-.94 2.06-2.06.94zm10 10l.94 2.06.94-2.06 2.06-.94-2.06-.94-.94-2.06-.94 2.06-2.06.94z\"/><path d=\"M17.41 7.96l-1.37-1.37c-.4-.4-.92-.59-1.43-.59-.52 0-1.04.2-1.43.59L10.3 9.45l-7.72 7.72c-.78.78-.78 2.05 0 2.83L4 21.41c.39.39.9.59 1.41.59.51 0 1.02-.2 1.41-.59l7.78-7.78 2.81-2.81c.8-.78.8-2.07 0-2.86zM5.41 20L4 18.59l7.72-7.72 1.47 1.35L5.41 20z\"/>\n",
              "  </svg>\n",
              "      </button>\n",
              "      \n",
              "  <style>\n",
              "    .colab-df-container {\n",
              "      display:flex;\n",
              "      flex-wrap:wrap;\n",
              "      gap: 12px;\n",
              "    }\n",
              "\n",
              "    .colab-df-convert {\n",
              "      background-color: #E8F0FE;\n",
              "      border: none;\n",
              "      border-radius: 50%;\n",
              "      cursor: pointer;\n",
              "      display: none;\n",
              "      fill: #1967D2;\n",
              "      height: 32px;\n",
              "      padding: 0 0 0 0;\n",
              "      width: 32px;\n",
              "    }\n",
              "\n",
              "    .colab-df-convert:hover {\n",
              "      background-color: #E2EBFA;\n",
              "      box-shadow: 0px 1px 2px rgba(60, 64, 67, 0.3), 0px 1px 3px 1px rgba(60, 64, 67, 0.15);\n",
              "      fill: #174EA6;\n",
              "    }\n",
              "\n",
              "    [theme=dark] .colab-df-convert {\n",
              "      background-color: #3B4455;\n",
              "      fill: #D2E3FC;\n",
              "    }\n",
              "\n",
              "    [theme=dark] .colab-df-convert:hover {\n",
              "      background-color: #434B5C;\n",
              "      box-shadow: 0px 1px 3px 1px rgba(0, 0, 0, 0.15);\n",
              "      filter: drop-shadow(0px 1px 2px rgba(0, 0, 0, 0.3));\n",
              "      fill: #FFFFFF;\n",
              "    }\n",
              "  </style>\n",
              "\n",
              "      <script>\n",
              "        const buttonEl =\n",
              "          document.querySelector('#df-cc610147-e50a-45e2-b266-990fc0d13c74 button.colab-df-convert');\n",
              "        buttonEl.style.display =\n",
              "          google.colab.kernel.accessAllowed ? 'block' : 'none';\n",
              "\n",
              "        async function convertToInteractive(key) {\n",
              "          const element = document.querySelector('#df-cc610147-e50a-45e2-b266-990fc0d13c74');\n",
              "          const dataTable =\n",
              "            await google.colab.kernel.invokeFunction('convertToInteractive',\n",
              "                                                     [key], {});\n",
              "          if (!dataTable) return;\n",
              "\n",
              "          const docLinkHtml = 'Like what you see? Visit the ' +\n",
              "            '<a target=\"_blank\" href=https://colab.research.google.com/notebooks/data_table.ipynb>data table notebook</a>'\n",
              "            + ' to learn more about interactive tables.';\n",
              "          element.innerHTML = '';\n",
              "          dataTable['output_type'] = 'display_data';\n",
              "          await google.colab.output.renderOutput(dataTable, element);\n",
              "          const docLink = document.createElement('div');\n",
              "          docLink.innerHTML = docLinkHtml;\n",
              "          element.appendChild(docLink);\n",
              "        }\n",
              "      </script>\n",
              "    </div>\n",
              "  </div>\n",
              "  "
            ]
          },
          "metadata": {},
          "execution_count": 104
        }
      ]
    },
    {
      "cell_type": "code",
      "source": [
        "plt.figure(figsize=(10,7))\n",
        "sns.heatmap(df1.corr(),annot = True)\n",
        "\n",
        "# annot = True, setting this up enables us to seee the values"
      ],
      "metadata": {
        "colab": {
          "base_uri": "https://localhost:8080/",
          "height": 588
        },
        "id": "wW1A9yxPvD29",
        "outputId": "d3aea5da-c228-4612-e4f4-1eea5505fc4f"
      },
      "execution_count": 37,
      "outputs": [
        {
          "output_type": "execute_result",
          "data": {
            "text/plain": [
              "<matplotlib.axes._subplots.AxesSubplot at 0x7ffac845c650>"
            ]
          },
          "metadata": {},
          "execution_count": 37
        },
        {
          "output_type": "display_data",
          "data": {
            "text/plain": [
              "<Figure size 720x504 with 2 Axes>"
            ],
            "image/png": "[encoded data removed]"
          },
          "metadata": {
            "needs_background": "light"
          }
        }
      ]
    },
    {
      "cell_type": "code",
      "source": [
        "df1.columns\n",
        "# To see all the column names"
      ],
      "metadata": {
        "colab": {
          "base_uri": "https://localhost:8080/"
        },
        "id": "3Qmaz2DcvUiu",
        "outputId": "6a3104a8-e253-4b5b-cf93-2f0de654932d"
      },
      "execution_count": 38,
      "outputs": [
        {
          "output_type": "execute_result",
          "data": {
            "text/plain": [
              "Index(['degree', 'masters', 'professional_membership', 'years_experience',\n",
              "       'audit_experience', 'IT_skill_rate', 'Size_of_the_company_worked',\n",
              "       'salary_per_year'],\n",
              "      dtype='object')"
            ]
          },
          "metadata": {},
          "execution_count": 38
        }
      ]
    },
    {
      "cell_type": "code",
      "source": [
        "# Uptill here we were doing data exploration stuff, now we will go ahead and split the data\n",
        "# First we should seperate the dependent and the independent variables"
      ],
      "metadata": {
        "id": "mxUOzwwKvqvq"
      },
      "execution_count": 45,
      "outputs": []
    },
    {
      "cell_type": "code",
      "source": [
        "X = df1.drop('salary_per_year', axis=1)\n",
        "# X has the input features\n",
        "y = df1['salary_per_year']\n",
        "# y has the column that has the labelled values"
      ],
      "metadata": {
        "id": "e3-AB-HAyJja"
      },
      "execution_count": 46,
      "outputs": []
    },
    {
      "cell_type": "code",
      "source": [
        "y.head()"
      ],
      "metadata": {
        "colab": {
          "base_uri": "https://localhost:8080/"
        },
        "id": "F3jpir6AyzNA",
        "outputId": "b788d864-cea2-4756-c57d-42ef52d6b123"
      },
      "execution_count": 47,
      "outputs": [
        {
          "output_type": "execute_result",
          "data": {
            "text/plain": [
              "0     89661\n",
              "1    105336\n",
              "2     91402\n",
              "3     96137\n",
              "4    113364\n",
              "Name: salary_per_year, dtype: int64"
            ]
          },
          "metadata": {},
          "execution_count": 47
        }
      ]
    },
    {
      "cell_type": "code",
      "source": [
        "from sklearn.model_selection import train_test_split"
      ],
      "metadata": {
        "id": "X9k9PDODzR-h"
      },
      "execution_count": 48,
      "outputs": []
    },
    {
      "cell_type": "code",
      "source": [
        "X_train, X_test, y_train, y_test = train_test_split(\n",
        "...     X, y, test_size=0.33, random_state=42)\n",
        "\n",
        "# We can get this piece of code just by writing, train_test_split"
      ],
      "metadata": {
        "id": "GWidqR-r4QwE"
      },
      "execution_count": 50,
      "outputs": []
    },
    {
      "cell_type": "code",
      "source": [
        "len(df1)"
      ],
      "metadata": {
        "colab": {
          "base_uri": "https://localhost:8080/"
        },
        "id": "osjMyPd-4hsm",
        "outputId": "c0e03ce3-3c42-4236-ce3c-9c500cb32cd3"
      },
      "execution_count": 51,
      "outputs": [
        {
          "output_type": "execute_result",
          "data": {
            "text/plain": [
              "1013"
            ]
          },
          "metadata": {},
          "execution_count": 51
        }
      ]
    },
    {
      "cell_type": "code",
      "source": [
        "len(X_test), len(y_test), len(X_train), len(y_train)"
      ],
      "metadata": {
        "colab": {
          "base_uri": "https://localhost:8080/"
        },
        "id": "DSrdrZBT-_Ba",
        "outputId": "6a764e9b-6c8b-48ff-ff8f-94a25b6b58ac"
      },
      "execution_count": 54,
      "outputs": [
        {
          "output_type": "execute_result",
          "data": {
            "text/plain": [
              "(335, 335, 678, 678)"
            ]
          },
          "metadata": {},
          "execution_count": 54
        }
      ]
    },
    {
      "cell_type": "code",
      "source": [
        "# Create the model and predict\n",
        "from sklearn.linear_model import LinearRegression"
      ],
      "metadata": {
        "id": "7caad5ZM_Dg2"
      },
      "execution_count": 56,
      "outputs": []
    },
    {
      "cell_type": "code",
      "source": [
        "model = LinearRegression()"
      ],
      "metadata": {
        "id": "zi-1rK4R_zXl"
      },
      "execution_count": 57,
      "outputs": []
    },
    {
      "cell_type": "code",
      "source": [
        "model.fit(X_train, y_train)"
      ],
      "metadata": {
        "colab": {
          "base_uri": "https://localhost:8080/"
        },
        "id": "IyYrOwmT_41f",
        "outputId": "a9bee4b2-5c40-48c5-cfb3-99f7929d3de5"
      },
      "execution_count": 58,
      "outputs": [
        {
          "output_type": "execute_result",
          "data": {
            "text/plain": [
              "LinearRegression()"
            ]
          },
          "metadata": {},
          "execution_count": 58
        }
      ]
    },
    {
      "cell_type": "code",
      "source": [
        "prediction = model.predict(X_test)"
      ],
      "metadata": {
        "id": "xV3IKAEs_7ig"
      },
      "execution_count": 60,
      "outputs": []
    },
    {
      "cell_type": "code",
      "source": [
        "# Check the prediction, (model performance)\n",
        "prediction"
      ],
      "metadata": {
        "colab": {
          "base_uri": "https://localhost:8080/"
        },
        "id": "fwQGegXJABG3",
        "outputId": "0f1a7953-3ab4-4a6c-a990-059eb70fad4c"
      },
      "execution_count": 63,
      "outputs": [
        {
          "output_type": "execute_result",
          "data": {
            "text/plain": [
              "array([ 97624.82166637,  90888.64024244, 100550.96548128,  95001.54802934,\n",
              "        95716.26965652,  88043.67294003,  98048.34689682,  99388.30213952,\n",
              "        99131.01562773,  95648.0930036 , 103030.63978834, 104875.81512026,\n",
              "        98224.0140496 ,  94127.00582185,  88388.3772683 , 105708.3719143 ,\n",
              "        95641.828923  ,  97218.18198915,  97829.40578788,  95465.52429452,\n",
              "        96429.30048465,  96063.24447103,  82585.92084436, 107159.21579014,\n",
              "        99898.924843  ,  90922.78686994,  97962.93212172,  80972.35686033,\n",
              "        92083.90250521,  99136.28966368,  97563.04577348,  83927.14698791,\n",
              "        91154.77221564,  95972.52427384,  98326.94476735,  89273.50146118,\n",
              "        94051.28059618,  90247.7124242 ,  99192.43490111,  86874.81696687,\n",
              "        85854.40932666,  71293.81898064, 101130.25644863,  93414.95693724,\n",
              "        87464.91307088,  98108.42659235, 108464.33715414,  98516.40584742,\n",
              "        91749.9678769 ,  85967.8194393 ,  79230.68340742,  88393.58802556,\n",
              "        80679.48391526,  91294.70875838,  87370.10208715,  98184.33548203,\n",
              "        91993.88744591,  97533.91831355,  93801.19953706,  95791.15610061,\n",
              "        96667.82158183,  89936.03913621,  78466.71809911,  91127.41131807,\n",
              "        92487.62459616,  88756.64150428,  77439.62749493,  96153.86156934,\n",
              "        99690.12000889,  82732.81715672, 100353.27373075, 104286.94985403,\n",
              "       105392.3493354 ,  93291.2725226 ,  93210.79574967,  90485.54752607,\n",
              "        83093.44787133,  92696.19826148,  88660.87996316, 103780.89503379,\n",
              "       102258.80556383,  84580.93690209,  90795.55549444,  90865.73653649,\n",
              "        79556.84631171, 104099.8847109 ,  85182.31473107,  98321.03730626,\n",
              "        90656.17687708,  95393.76035413,  89445.89332399, 112273.98574271,\n",
              "        84696.94729329,  98453.44805288,  94720.79154026, 100506.71903047,\n",
              "        96987.09211514,  95625.96429216,  91798.8321619 ,  83812.39426168,\n",
              "        88477.30356756,  85471.68635212,  92158.43638035, 106317.42376673,\n",
              "        99705.81016104, 103409.07573583,  76001.949256  ,  90509.60225593,\n",
              "        99431.10726135,  94333.9858803 ,  87925.68549527,  82887.45785753,\n",
              "        88018.83250714,  97091.74906862,  99862.55244315, 100525.71021557,\n",
              "       101792.24564715,  81435.14582553,  92811.57522753,  88938.36224646,\n",
              "        90608.66483001,  90825.8743049 , 107713.03263591,  88751.01084883,\n",
              "       102922.72230397,  88282.62767968,  94979.89742941,  96992.76225785,\n",
              "        82209.59997761,  93179.84351407,  92219.09668602,  89532.41963575,\n",
              "        83782.2134784 , 105955.24913265,  85215.66695417,  89049.79530555,\n",
              "        84273.70291904, 101309.7294812 ,  97499.665045  ,  94335.74434153,\n",
              "       101170.2158724 ,  89681.42563054,  97687.74705996,  94980.88747406,\n",
              "        81468.42768363,  95677.36254128,  99311.22872649,  86203.07899078,\n",
              "        99754.99157829, 109640.15694748, 102628.22487429,  89451.09058182,\n",
              "        93629.04390844,  87328.59469334,  89291.53347939, 101295.93960448,\n",
              "       101914.97545384,  87575.25736993,  97786.45301453,  95396.18716881,\n",
              "        82573.61262324,  88983.99181295,  86748.17895345, 100116.95140706,\n",
              "        91995.61368166,  97482.84580619,  88107.31309584,  96595.90223595,\n",
              "        98164.92439873,  79457.78373763, 100574.9538967 , 100698.94599472,\n",
              "        94287.13408555,  94838.56444325,  89479.93718555,  91177.5029661 ,\n",
              "        96284.25982571,  76782.1666924 , 104964.38885057,  87527.41958109,\n",
              "        91807.28168824,  93842.25716974,  89581.85103146,  91722.03581806,\n",
              "        84346.51916794,  99216.00746889, 110090.06653029,  91014.1131567 ,\n",
              "        99290.26048783,  91823.62290739,  89764.20924935,  84570.71153622,\n",
              "        91603.39730631,  89592.71387304, 101226.00449032,  99225.59940963,\n",
              "       102442.91279408,  87254.09574651, 100981.62445166, 102696.33116221,\n",
              "        88035.65579651, 105138.09244923,  79311.23999421,  91837.39514226,\n",
              "        99323.85863882,  92013.62427098, 103980.00617604, 110627.6447474 ,\n",
              "        81580.43190399,  97108.56425687, 109193.62416093, 110988.90888715,\n",
              "       103547.81687749,  85341.0381173 ,  85757.74674008,  86557.9423705 ,\n",
              "       103281.03797971,  98846.32468055,  95063.03361716,  94433.40102333,\n",
              "        95655.61879973, 101357.78586236, 109240.68644688,  92163.70639067,\n",
              "        99316.89481864, 101497.84693285, 107841.84285918,  88225.96484348,\n",
              "        99716.03957748,  96641.977513  ,  90828.68912522,  86546.27162507,\n",
              "        85482.51831596,  85263.01954519,  87864.13359302,  98041.65988228,\n",
              "       103332.1768015 ,  91999.23184686, 101349.41209933,  86633.34227092,\n",
              "        83193.14387056, 105040.71662364, 106888.27439306,  94111.71286066,\n",
              "        75704.637006  ,  85789.81861346,  98036.34635908,  99380.5658522 ,\n",
              "        94588.09993744,  87824.16066982, 102382.83309855,  93340.84599605,\n",
              "        93518.56056739, 101380.46152711,  91576.09867261,  87648.4272026 ,\n",
              "       105765.71255282,  86664.1108425 ,  79259.53406171,  86596.15278191,\n",
              "        95107.77572948, 104359.91433026,  83158.0426351 ,  91896.2079875 ,\n",
              "        99999.25426737,  97329.40050648, 103359.76574027,  93410.42449069,\n",
              "        82924.95502993,  93276.12265397,  92418.81856866, 113059.06136742,\n",
              "       107142.39250077,  99176.98915364,  89218.85525766,  99758.92603639,\n",
              "        79594.69605305, 103721.4487634 ,  87830.39792323,  89082.57636738,\n",
              "        90796.99682342,  90425.20840321,  87251.69575901,  94776.72223593,\n",
              "        89246.57277474,  90989.30360155,  92218.23521968,  86320.04551314,\n",
              "        82108.35600835,  99743.51268987,  95434.85291511, 107698.32847784,\n",
              "        99145.46575678,  98974.3001728 ,  94724.72599836,  97205.93063359,\n",
              "        95562.63664222,  79751.58446347, 103295.88016495,  95804.37481606,\n",
              "       107894.69111422,  87005.99629989, 109652.18431241,  91621.78189345,\n",
              "       103847.87223506,  89097.75449453,  89550.34087048,  96032.53765493,\n",
              "        84163.80838111,  94413.24987382,  91008.4161868 ,  93782.45833041,\n",
              "        99573.04279491, 109637.6946961 , 107402.70297633,  94072.06112027,\n",
              "        85894.93072638,  98708.6817478 , 102986.0002665 ,  86868.62864958,\n",
              "        88444.05798552,  81805.06998282,  92569.77478982, 102770.62366841,\n",
              "       107074.85737412,  83232.82243813, 102434.47676718, 110354.03060775,\n",
              "        86795.81240067, 103781.818764  , 103638.21943403,  92557.90688095,\n",
              "        77415.0016038 , 104586.30547202,  77353.73055775])"
            ]
          },
          "metadata": {},
          "execution_count": 63
        }
      ]
    },
    {
      "cell_type": "code",
      "source": [
        "prediction[0]"
      ],
      "metadata": {
        "colab": {
          "base_uri": "https://localhost:8080/"
        },
        "id": "_6UjQsjPAJHZ",
        "outputId": "e8a26fd4-105f-436e-9212-b70f097dfe16"
      },
      "execution_count": 64,
      "outputs": [
        {
          "output_type": "execute_result",
          "data": {
            "text/plain": [
              "97624.82166636703"
            ]
          },
          "metadata": {},
          "execution_count": 64
        }
      ]
    },
    {
      "cell_type": "code",
      "source": [
        "y_test"
      ],
      "metadata": {
        "colab": {
          "base_uri": "https://localhost:8080/"
        },
        "id": "YuUF2Gj3ARYc",
        "outputId": "51b05c27-f6d2-4f5f-8e9f-f31422beaebb"
      },
      "execution_count": 65,
      "outputs": [
        {
          "output_type": "execute_result",
          "data": {
            "text/plain": [
              "689     93571\n",
              "518     87150\n",
              "940    105760\n",
              "96      93330\n",
              "578    102614\n",
              "        ...  \n",
              "79     104592\n",
              "148     88503\n",
              "302     73297\n",
              "464    101318\n",
              "712     77927\n",
              "Name: salary_per_year, Length: 335, dtype: int64"
            ]
          },
          "metadata": {},
          "execution_count": 65
        }
      ]
    },
    {
      "cell_type": "code",
      "source": [
        "# To access the index of the y_test we need to convert it into a numpy array\n",
        "np_y_test = np.array(y_test)"
      ],
      "metadata": {
        "id": "M1tA7-xnAT6q"
      },
      "execution_count": 66,
      "outputs": []
    },
    {
      "cell_type": "code",
      "source": [
        "np_y_test[0]"
      ],
      "metadata": {
        "colab": {
          "base_uri": "https://localhost:8080/"
        },
        "id": "5qHpnX9pAfCU",
        "outputId": "0270f803-5334-499b-cf95-7f59438d23e1"
      },
      "execution_count": 68,
      "outputs": [
        {
          "output_type": "execute_result",
          "data": {
            "text/plain": [
              "93571"
            ]
          },
          "metadata": {},
          "execution_count": 68
        }
      ]
    },
    {
      "cell_type": "code",
      "source": [
        "from sklearn.metrics import mean_absolute_error, mean_squared_error"
      ],
      "metadata": {
        "id": "ya3NEN6QAf6i"
      },
      "execution_count": 69,
      "outputs": []
    },
    {
      "cell_type": "code",
      "source": [
        "mean_absolute_error(y_test, prediction)"
      ],
      "metadata": {
        "colab": {
          "base_uri": "https://localhost:8080/"
        },
        "id": "sJFRB0MfA22k",
        "outputId": "ad2ee560-8071-4d42-d0d1-392bdfa9c1ae"
      },
      "execution_count": 70,
      "outputs": [
        {
          "output_type": "execute_result",
          "data": {
            "text/plain": [
              "2754.2851254472134"
            ]
          },
          "metadata": {},
          "execution_count": 70
        }
      ]
    },
    {
      "cell_type": "code",
      "source": [
        "print(\"Mean Absolute error: \", mean_absolute_error(y_test, prediction))"
      ],
      "metadata": {
        "colab": {
          "base_uri": "https://localhost:8080/"
        },
        "id": "Hd6HNWofA_dd",
        "outputId": "ab34cac2-4bb3-466f-dc4f-525a493e3cc4"
      },
      "execution_count": 72,
      "outputs": [
        {
          "output_type": "stream",
          "name": "stdout",
          "text": [
            "Mean Absolute error:  2754.2851254472134\n"
          ]
        }
      ]
    },
    {
      "cell_type": "code",
      "source": [
        "print(\"Mean Squared error: \", mean_squared_error(y_test, prediction))"
      ],
      "metadata": {
        "colab": {
          "base_uri": "https://localhost:8080/"
        },
        "id": "CawEs3nkBQBO",
        "outputId": "47181f40-2c82-4a8a-8734-f9191bbc5622"
      },
      "execution_count": 74,
      "outputs": [
        {
          "output_type": "stream",
          "name": "stdout",
          "text": [
            "Mean Squared error:  10641378.164973492\n"
          ]
        }
      ]
    },
    {
      "cell_type": "code",
      "source": [
        "print(\"RMSE: \", np.sqrt(mean_squared_error(y_test, prediction)))"
      ],
      "metadata": {
        "colab": {
          "base_uri": "https://localhost:8080/"
        },
        "id": "OZtRcGxFBZho",
        "outputId": "cd9c4409-bdc5-41d1-f214-6109cac6a870"
      },
      "execution_count": 76,
      "outputs": [
        {
          "output_type": "stream",
          "name": "stdout",
          "text": [
            "RMSE:  3262.112531010157\n"
          ]
        }
      ]
    },
    {
      "cell_type": "code",
      "source": [
        "prediction[0] - np_y_test[0]\n",
        "# we can see that the RMSE is the closest to the actual error so we can go ahead with that"
      ],
      "metadata": {
        "colab": {
          "base_uri": "https://localhost:8080/"
        },
        "id": "NU1ZiRL3Bhto",
        "outputId": "81c04c64-97c0-45f6-d3fb-54170eab814e"
      },
      "execution_count": 79,
      "outputs": [
        {
          "output_type": "execute_result",
          "data": {
            "text/plain": [
              "4053.821666367032"
            ]
          },
          "metadata": {},
          "execution_count": 79
        }
      ]
    },
    {
      "cell_type": "code",
      "source": [
        "# To check the performance at each index level\n",
        "index_position = 0\n",
        "np_y_test = np.array(y_test)\n",
        "actual = np_y_test[index_position]\n",
        "pred = round(prediction[index_position], 2)\n",
        "diff = round(actual - pred, 2)\n",
        "perc = round (diff/actual *100, 2)\n",
        "print('Actual     : ' + str(actual))\n",
        "print('Prediction : ' + str(pred))\n",
        "print('Error      : ' + str(diff))\n",
        "print('Error %    : ' + str(perc) + '%')"
      ],
      "metadata": {
        "colab": {
          "base_uri": "https://localhost:8080/"
        },
        "id": "0bMQx9cjCNlF",
        "outputId": "c03866f5-4d80-421c-deaf-dfdfc3f1d7e1"
      },
      "execution_count": 93,
      "outputs": [
        {
          "output_type": "stream",
          "name": "stdout",
          "text": [
            "Actual     : 93571\n",
            "Prediction : 97624.82\n",
            "Error      : -4053.82\n",
            "Error %    : -4.33%\n"
          ]
        }
      ]
    }
  ]
}