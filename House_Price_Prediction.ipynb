{
  "nbformat": 4,
  "nbformat_minor": 0,
  "metadata": {
    "colab": {
      "provenance": [],
      "collapsed_sections": [],
      "authorship_tag": "ABX9TyOPVNcwKyjRC/LOenisftkj",
      "include_colab_link": true
    },
    "kernelspec": {
      "name": "python3",
      "display_name": "Python 3"
    },
    "language_info": {
      "name": "python"
    }
  },
  "cells": [
    {
      "cell_type": "markdown",
      "metadata": {
        "id": "view-in-github",
        "colab_type": "text"
      },
      "source": [
        "<a href=\"https://colab.research.google.com/github/VimalChamyal/Linear-Regression/blob/main/House_Price_Prediction.ipynb\" target=\"_parent\"><img src=\"https://colab.research.google.com/assets/colab-badge.svg\" alt=\"Open In Colab\"/></a>"
      ]
    },
    {
      "cell_type": "markdown",
      "source": [
        "Loading the essential libraries"
      ],
      "metadata": {
        "id": "-7keE5-a5jBV"
      }
    },
    {
      "cell_type": "code",
      "execution_count": 139,
      "metadata": {
        "id": "7tl5oQEwf2r3"
      },
      "outputs": [],
      "source": [
        "import pandas as pd\n",
        "import numpy as np\n",
        "import matplotlib.pyplot as plt\n",
        "import seaborn as sns"
      ]
    },
    {
      "cell_type": "markdown",
      "source": [
        "Loading the data from my github repo"
      ],
      "metadata": {
        "id": "48VnBA255oiD"
      }
    },
    {
      "cell_type": "code",
      "source": [
        "url = \"https://raw.githubusercontent.com/VimalChamyal/Linear-Regression/main/house_price.csv\"\n",
        "df1 = pd.read_csv(url)"
      ],
      "metadata": {
        "id": "89VgC8R4hjSw"
      },
      "execution_count": 140,
      "outputs": []
    },
    {
      "cell_type": "code",
      "source": [
        "df1.head()"
      ],
      "metadata": {
        "colab": {
          "base_uri": "https://localhost:8080/",
          "height": 270
        },
        "id": "S0PJ07T5hsCu",
        "outputId": "048f25f6-8f7a-463a-bc87-08dd723f994f"
      },
      "execution_count": 141,
      "outputs": [
        {
          "output_type": "execute_result",
          "data": {
            "text/plain": [
              "  land_size_sqm  house_size_sqm  no_of_rooms  no_of_bathrooms  \\\n",
              "0       201 sqm             177            3                1   \n",
              "1       196 sqm             182            4                3   \n",
              "2       198 sqm             182            4                4   \n",
              "3       178 sqm             166            2                3   \n",
              "4       183 sqm             165            3                1   \n",
              "\n",
              "  living_room_size  parking_space  front_garden swimming_pool  \\\n",
              "0            Small              1             1            No   \n",
              "1            Large              1             0           Yes   \n",
              "2            Large              1             0           Yes   \n",
              "3            Small              1             0            No   \n",
              "4            Large              1             0            No   \n",
              "\n",
              "   distance_to_school  wall_fence  house_age  water_front  \\\n",
              "0                 3.3           1         10            0   \n",
              "1                 1.2           1         11            0   \n",
              "2                 5.9           0         20            0   \n",
              "3                 5.9           0          5            0   \n",
              "4                 3.8           1          8            0   \n",
              "\n",
              "   distance_to_supermarket_km  crime_rate_index  room_size  property_value  \n",
              "0                         6.8              0.90          0          165432  \n",
              "1                         4.1              1.42          1          187043  \n",
              "2                         2.1              4.12          1          148658  \n",
              "3                         0.7              4.36          0          123785  \n",
              "4                         0.7              0.42          0          156470  "
            ],
            "text/html": [
              "\n",
              "  <div id=\"df-4618392b-c481-48df-a883-26d87f12fbe4\">\n",
              "    <div class=\"colab-df-container\">\n",
              "      <div>\n",
              "<style scoped>\n",
              "    .dataframe tbody tr th:only-of-type {\n",
              "        vertical-align: middle;\n",
              "    }\n",
              "\n",
              "    .dataframe tbody tr th {\n",
              "        vertical-align: top;\n",
              "    }\n",
              "\n",
              "    .dataframe thead th {\n",
              "        text-align: right;\n",
              "    }\n",
              "</style>\n",
              "<table border=\"1\" class=\"dataframe\">\n",
              "  <thead>\n",
              "    <tr style=\"text-align: right;\">\n",
              "      <th></th>\n",
              "      <th>land_size_sqm</th>\n",
              "      <th>house_size_sqm</th>\n",
              "      <th>no_of_rooms</th>\n",
              "      <th>no_of_bathrooms</th>\n",
              "      <th>living_room_size</th>\n",
              "      <th>parking_space</th>\n",
              "      <th>front_garden</th>\n",
              "      <th>swimming_pool</th>\n",
              "      <th>distance_to_school</th>\n",
              "      <th>wall_fence</th>\n",
              "      <th>house_age</th>\n",
              "      <th>water_front</th>\n",
              "      <th>distance_to_supermarket_km</th>\n",
              "      <th>crime_rate_index</th>\n",
              "      <th>room_size</th>\n",
              "      <th>property_value</th>\n",
              "    </tr>\n",
              "  </thead>\n",
              "  <tbody>\n",
              "    <tr>\n",
              "      <th>0</th>\n",
              "      <td>201 sqm</td>\n",
              "      <td>177</td>\n",
              "      <td>3</td>\n",
              "      <td>1</td>\n",
              "      <td>Small</td>\n",
              "      <td>1</td>\n",
              "      <td>1</td>\n",
              "      <td>No</td>\n",
              "      <td>3.3</td>\n",
              "      <td>1</td>\n",
              "      <td>10</td>\n",
              "      <td>0</td>\n",
              "      <td>6.8</td>\n",
              "      <td>0.90</td>\n",
              "      <td>0</td>\n",
              "      <td>165432</td>\n",
              "    </tr>\n",
              "    <tr>\n",
              "      <th>1</th>\n",
              "      <td>196 sqm</td>\n",
              "      <td>182</td>\n",
              "      <td>4</td>\n",
              "      <td>3</td>\n",
              "      <td>Large</td>\n",
              "      <td>1</td>\n",
              "      <td>0</td>\n",
              "      <td>Yes</td>\n",
              "      <td>1.2</td>\n",
              "      <td>1</td>\n",
              "      <td>11</td>\n",
              "      <td>0</td>\n",
              "      <td>4.1</td>\n",
              "      <td>1.42</td>\n",
              "      <td>1</td>\n",
              "      <td>187043</td>\n",
              "    </tr>\n",
              "    <tr>\n",
              "      <th>2</th>\n",
              "      <td>198 sqm</td>\n",
              "      <td>182</td>\n",
              "      <td>4</td>\n",
              "      <td>4</td>\n",
              "      <td>Large</td>\n",
              "      <td>1</td>\n",
              "      <td>0</td>\n",
              "      <td>Yes</td>\n",
              "      <td>5.9</td>\n",
              "      <td>0</td>\n",
              "      <td>20</td>\n",
              "      <td>0</td>\n",
              "      <td>2.1</td>\n",
              "      <td>4.12</td>\n",
              "      <td>1</td>\n",
              "      <td>148658</td>\n",
              "    </tr>\n",
              "    <tr>\n",
              "      <th>3</th>\n",
              "      <td>178 sqm</td>\n",
              "      <td>166</td>\n",
              "      <td>2</td>\n",
              "      <td>3</td>\n",
              "      <td>Small</td>\n",
              "      <td>1</td>\n",
              "      <td>0</td>\n",
              "      <td>No</td>\n",
              "      <td>5.9</td>\n",
              "      <td>0</td>\n",
              "      <td>5</td>\n",
              "      <td>0</td>\n",
              "      <td>0.7</td>\n",
              "      <td>4.36</td>\n",
              "      <td>0</td>\n",
              "      <td>123785</td>\n",
              "    </tr>\n",
              "    <tr>\n",
              "      <th>4</th>\n",
              "      <td>183 sqm</td>\n",
              "      <td>165</td>\n",
              "      <td>3</td>\n",
              "      <td>1</td>\n",
              "      <td>Large</td>\n",
              "      <td>1</td>\n",
              "      <td>0</td>\n",
              "      <td>No</td>\n",
              "      <td>3.8</td>\n",
              "      <td>1</td>\n",
              "      <td>8</td>\n",
              "      <td>0</td>\n",
              "      <td>0.7</td>\n",
              "      <td>0.42</td>\n",
              "      <td>0</td>\n",
              "      <td>156470</td>\n",
              "    </tr>\n",
              "  </tbody>\n",
              "</table>\n",
              "</div>\n",
              "      <button class=\"colab-df-convert\" onclick=\"convertToInteractive('df-4618392b-c481-48df-a883-26d87f12fbe4')\"\n",
              "              title=\"Convert this dataframe to an interactive table.\"\n",
              "              style=\"display:none;\">\n",
              "        \n",
              "  <svg xmlns=\"http://www.w3.org/2000/svg\" height=\"24px\"viewBox=\"0 0 24 24\"\n",
              "       width=\"24px\">\n",
              "    <path d=\"M0 0h24v24H0V0z\" fill=\"none\"/>\n",
              "    <path d=\"M18.56 5.44l.94 2.06.94-2.06 2.06-.94-2.06-.94-.94-2.06-.94 2.06-2.06.94zm-11 1L8.5 8.5l.94-2.06 2.06-.94-2.06-.94L8.5 2.5l-.94 2.06-2.06.94zm10 10l.94 2.06.94-2.06 2.06-.94-2.06-.94-.94-2.06-.94 2.06-2.06.94z\"/><path d=\"M17.41 7.96l-1.37-1.37c-.4-.4-.92-.59-1.43-.59-.52 0-1.04.2-1.43.59L10.3 9.45l-7.72 7.72c-.78.78-.78 2.05 0 2.83L4 21.41c.39.39.9.59 1.41.59.51 0 1.02-.2 1.41-.59l7.78-7.78 2.81-2.81c.8-.78.8-2.07 0-2.86zM5.41 20L4 18.59l7.72-7.72 1.47 1.35L5.41 20z\"/>\n",
              "  </svg>\n",
              "      </button>\n",
              "      \n",
              "  <style>\n",
              "    .colab-df-container {\n",
              "      display:flex;\n",
              "      flex-wrap:wrap;\n",
              "      gap: 12px;\n",
              "    }\n",
              "\n",
              "    .colab-df-convert {\n",
              "      background-color: #E8F0FE;\n",
              "      border: none;\n",
              "      border-radius: 50%;\n",
              "      cursor: pointer;\n",
              "      display: none;\n",
              "      fill: #1967D2;\n",
              "      height: 32px;\n",
              "      padding: 0 0 0 0;\n",
              "      width: 32px;\n",
              "    }\n",
              "\n",
              "    .colab-df-convert:hover {\n",
              "      background-color: #E2EBFA;\n",
              "      box-shadow: 0px 1px 2px rgba(60, 64, 67, 0.3), 0px 1px 3px 1px rgba(60, 64, 67, 0.15);\n",
              "      fill: #174EA6;\n",
              "    }\n",
              "\n",
              "    [theme=dark] .colab-df-convert {\n",
              "      background-color: #3B4455;\n",
              "      fill: #D2E3FC;\n",
              "    }\n",
              "\n",
              "    [theme=dark] .colab-df-convert:hover {\n",
              "      background-color: #434B5C;\n",
              "      box-shadow: 0px 1px 3px 1px rgba(0, 0, 0, 0.15);\n",
              "      filter: drop-shadow(0px 1px 2px rgba(0, 0, 0, 0.3));\n",
              "      fill: #FFFFFF;\n",
              "    }\n",
              "  </style>\n",
              "\n",
              "      <script>\n",
              "        const buttonEl =\n",
              "          document.querySelector('#df-4618392b-c481-48df-a883-26d87f12fbe4 button.colab-df-convert');\n",
              "        buttonEl.style.display =\n",
              "          google.colab.kernel.accessAllowed ? 'block' : 'none';\n",
              "\n",
              "        async function convertToInteractive(key) {\n",
              "          const element = document.querySelector('#df-4618392b-c481-48df-a883-26d87f12fbe4');\n",
              "          const dataTable =\n",
              "            await google.colab.kernel.invokeFunction('convertToInteractive',\n",
              "                                                     [key], {});\n",
              "          if (!dataTable) return;\n",
              "\n",
              "          const docLinkHtml = 'Like what you see? Visit the ' +\n",
              "            '<a target=\"_blank\" href=https://colab.research.google.com/notebooks/data_table.ipynb>data table notebook</a>'\n",
              "            + ' to learn more about interactive tables.';\n",
              "          element.innerHTML = '';\n",
              "          dataTable['output_type'] = 'display_data';\n",
              "          await google.colab.output.renderOutput(dataTable, element);\n",
              "          const docLink = document.createElement('div');\n",
              "          docLink.innerHTML = docLinkHtml;\n",
              "          element.appendChild(docLink);\n",
              "        }\n",
              "      </script>\n",
              "    </div>\n",
              "  </div>\n",
              "  "
            ]
          },
          "metadata": {},
          "execution_count": 141
        }
      ]
    },
    {
      "cell_type": "code",
      "source": [
        "df1.columns"
      ],
      "metadata": {
        "colab": {
          "base_uri": "https://localhost:8080/"
        },
        "id": "IZs0ngy8htTc",
        "outputId": "ea209e63-deb0-4a8a-938b-f41203c59413"
      },
      "execution_count": 92,
      "outputs": [
        {
          "output_type": "execute_result",
          "data": {
            "text/plain": [
              "Index(['land_size_sqm', 'house_size_sqm', 'no_of_rooms', 'no_of_bathrooms',\n",
              "       'living_room_size', 'parking_space', 'front_garden', 'swimming_pool',\n",
              "       'distance_to_school', 'wall_fence', 'house_age', 'water_front',\n",
              "       'distance_to_supermarket_km', 'crime_rate_index', 'room_size',\n",
              "       'property_value'],\n",
              "      dtype='object')"
            ]
          },
          "metadata": {},
          "execution_count": 92
        }
      ]
    },
    {
      "cell_type": "code",
      "source": [
        "df1.info()\n",
        "# It is important for us to convert the object dtype to numeric dtype for the ease of implementation"
      ],
      "metadata": {
        "colab": {
          "base_uri": "https://localhost:8080/"
        },
        "id": "JO4EMqsLh320",
        "outputId": "aa0fb2f8-cf42-4325-e7fd-5d0ccc052898"
      },
      "execution_count": 93,
      "outputs": [
        {
          "output_type": "stream",
          "name": "stdout",
          "text": [
            "<class 'pandas.core.frame.DataFrame'>\n",
            "RangeIndex: 4954 entries, 0 to 4953\n",
            "Data columns (total 16 columns):\n",
            " #   Column                      Non-Null Count  Dtype  \n",
            "---  ------                      --------------  -----  \n",
            " 0   land_size_sqm               4954 non-null   object \n",
            " 1   house_size_sqm              4954 non-null   int64  \n",
            " 2   no_of_rooms                 4954 non-null   int64  \n",
            " 3   no_of_bathrooms             4954 non-null   int64  \n",
            " 4   living_room_size            4954 non-null   object \n",
            " 5   parking_space               4954 non-null   int64  \n",
            " 6   front_garden                4954 non-null   int64  \n",
            " 7   swimming_pool               4954 non-null   object \n",
            " 8   distance_to_school          4954 non-null   float64\n",
            " 9   wall_fence                  4954 non-null   int64  \n",
            " 10  house_age                   4954 non-null   int64  \n",
            " 11  water_front                 4954 non-null   int64  \n",
            " 12  distance_to_supermarket_km  4954 non-null   float64\n",
            " 13  crime_rate_index            4954 non-null   float64\n",
            " 14  room_size                   4954 non-null   int64  \n",
            " 15  property_value              4954 non-null   int64  \n",
            "dtypes: float64(3), int64(10), object(3)\n",
            "memory usage: 619.4+ KB\n"
          ]
        }
      ]
    },
    {
      "cell_type": "code",
      "source": [
        "df1.describe()\n",
        "# Columns with numerical values will only be summarized"
      ],
      "metadata": {
        "colab": {
          "base_uri": "https://localhost:8080/",
          "height": 364
        },
        "id": "L92Sh3nrh7pJ",
        "outputId": "d2f6e4c3-eb67-45f8-a78b-20d16ada2381"
      },
      "execution_count": 94,
      "outputs": [
        {
          "output_type": "execute_result",
          "data": {
            "text/plain": [
              "       house_size_sqm  no_of_rooms  no_of_bathrooms  parking_space  \\\n",
              "count     4954.000000  4954.000000      4954.000000    4954.000000   \n",
              "mean       231.250908     3.788252         3.199839       0.763827   \n",
              "std         94.571642     1.585371         1.602300       0.424772   \n",
              "min         85.000000     1.000000         1.000000       0.000000   \n",
              "25%        165.000000     3.000000         2.000000       1.000000   \n",
              "50%        217.500000     4.000000         3.000000       1.000000   \n",
              "75%        274.000000     5.000000         4.000000       1.000000   \n",
              "max        760.000000     8.000000         9.000000       1.000000   \n",
              "\n",
              "       front_garden  distance_to_school   wall_fence    house_age  \\\n",
              "count   4954.000000         4954.000000  4954.000000  4954.000000   \n",
              "mean       0.627574            3.454219     0.630400    11.444691   \n",
              "std        0.483500            2.007358     0.482745     6.356991   \n",
              "min        0.000000            0.100000     0.000000     1.000000   \n",
              "25%        0.000000            1.700000     0.000000     6.000000   \n",
              "50%        1.000000            3.400000     1.000000    11.000000   \n",
              "75%        1.000000            5.200000     1.000000    17.000000   \n",
              "max        1.000000            6.900000     1.000000    22.000000   \n",
              "\n",
              "       water_front  distance_to_supermarket_km  crime_rate_index    room_size  \\\n",
              "count  4954.000000                 4954.000000       4954.000000  4954.000000   \n",
              "mean      0.048648                    3.508639          2.986110     1.738393   \n",
              "std       0.215152                    1.991266          1.737742     0.941126   \n",
              "min       0.000000                    0.100000          0.010000     0.000000   \n",
              "25%       0.000000                    1.800000          1.470000     1.000000   \n",
              "50%       0.000000                    3.500000          3.020000     2.000000   \n",
              "75%       0.000000                    5.300000          4.490000     2.000000   \n",
              "max       1.000000                    6.900000          5.990000     3.000000   \n",
              "\n",
              "       property_value  \n",
              "count     4954.000000  \n",
              "mean    201974.738999  \n",
              "std      90031.882219  \n",
              "min      32622.000000  \n",
              "25%     136777.000000  \n",
              "50%     194515.500000  \n",
              "75%     246590.000000  \n",
              "max     692086.000000  "
            ],
            "text/html": [
              "\n",
              "  <div id=\"df-f85168db-35cf-4383-9286-21703c001be4\">\n",
              "    <div class=\"colab-df-container\">\n",
              "      <div>\n",
              "<style scoped>\n",
              "    .dataframe tbody tr th:only-of-type {\n",
              "        vertical-align: middle;\n",
              "    }\n",
              "\n",
              "    .dataframe tbody tr th {\n",
              "        vertical-align: top;\n",
              "    }\n",
              "\n",
              "    .dataframe thead th {\n",
              "        text-align: right;\n",
              "    }\n",
              "</style>\n",
              "<table border=\"1\" class=\"dataframe\">\n",
              "  <thead>\n",
              "    <tr style=\"text-align: right;\">\n",
              "      <th></th>\n",
              "      <th>house_size_sqm</th>\n",
              "      <th>no_of_rooms</th>\n",
              "      <th>no_of_bathrooms</th>\n",
              "      <th>parking_space</th>\n",
              "      <th>front_garden</th>\n",
              "      <th>distance_to_school</th>\n",
              "      <th>wall_fence</th>\n",
              "      <th>house_age</th>\n",
              "      <th>water_front</th>\n",
              "      <th>distance_to_supermarket_km</th>\n",
              "      <th>crime_rate_index</th>\n",
              "      <th>room_size</th>\n",
              "      <th>property_value</th>\n",
              "    </tr>\n",
              "  </thead>\n",
              "  <tbody>\n",
              "    <tr>\n",
              "      <th>count</th>\n",
              "      <td>4954.000000</td>\n",
              "      <td>4954.000000</td>\n",
              "      <td>4954.000000</td>\n",
              "      <td>4954.000000</td>\n",
              "      <td>4954.000000</td>\n",
              "      <td>4954.000000</td>\n",
              "      <td>4954.000000</td>\n",
              "      <td>4954.000000</td>\n",
              "      <td>4954.000000</td>\n",
              "      <td>4954.000000</td>\n",
              "      <td>4954.000000</td>\n",
              "      <td>4954.000000</td>\n",
              "      <td>4954.000000</td>\n",
              "    </tr>\n",
              "    <tr>\n",
              "      <th>mean</th>\n",
              "      <td>231.250908</td>\n",
              "      <td>3.788252</td>\n",
              "      <td>3.199839</td>\n",
              "      <td>0.763827</td>\n",
              "      <td>0.627574</td>\n",
              "      <td>3.454219</td>\n",
              "      <td>0.630400</td>\n",
              "      <td>11.444691</td>\n",
              "      <td>0.048648</td>\n",
              "      <td>3.508639</td>\n",
              "      <td>2.986110</td>\n",
              "      <td>1.738393</td>\n",
              "      <td>201974.738999</td>\n",
              "    </tr>\n",
              "    <tr>\n",
              "      <th>std</th>\n",
              "      <td>94.571642</td>\n",
              "      <td>1.585371</td>\n",
              "      <td>1.602300</td>\n",
              "      <td>0.424772</td>\n",
              "      <td>0.483500</td>\n",
              "      <td>2.007358</td>\n",
              "      <td>0.482745</td>\n",
              "      <td>6.356991</td>\n",
              "      <td>0.215152</td>\n",
              "      <td>1.991266</td>\n",
              "      <td>1.737742</td>\n",
              "      <td>0.941126</td>\n",
              "      <td>90031.882219</td>\n",
              "    </tr>\n",
              "    <tr>\n",
              "      <th>min</th>\n",
              "      <td>85.000000</td>\n",
              "      <td>1.000000</td>\n",
              "      <td>1.000000</td>\n",
              "      <td>0.000000</td>\n",
              "      <td>0.000000</td>\n",
              "      <td>0.100000</td>\n",
              "      <td>0.000000</td>\n",
              "      <td>1.000000</td>\n",
              "      <td>0.000000</td>\n",
              "      <td>0.100000</td>\n",
              "      <td>0.010000</td>\n",
              "      <td>0.000000</td>\n",
              "      <td>32622.000000</td>\n",
              "    </tr>\n",
              "    <tr>\n",
              "      <th>25%</th>\n",
              "      <td>165.000000</td>\n",
              "      <td>3.000000</td>\n",
              "      <td>2.000000</td>\n",
              "      <td>1.000000</td>\n",
              "      <td>0.000000</td>\n",
              "      <td>1.700000</td>\n",
              "      <td>0.000000</td>\n",
              "      <td>6.000000</td>\n",
              "      <td>0.000000</td>\n",
              "      <td>1.800000</td>\n",
              "      <td>1.470000</td>\n",
              "      <td>1.000000</td>\n",
              "      <td>136777.000000</td>\n",
              "    </tr>\n",
              "    <tr>\n",
              "      <th>50%</th>\n",
              "      <td>217.500000</td>\n",
              "      <td>4.000000</td>\n",
              "      <td>3.000000</td>\n",
              "      <td>1.000000</td>\n",
              "      <td>1.000000</td>\n",
              "      <td>3.400000</td>\n",
              "      <td>1.000000</td>\n",
              "      <td>11.000000</td>\n",
              "      <td>0.000000</td>\n",
              "      <td>3.500000</td>\n",
              "      <td>3.020000</td>\n",
              "      <td>2.000000</td>\n",
              "      <td>194515.500000</td>\n",
              "    </tr>\n",
              "    <tr>\n",
              "      <th>75%</th>\n",
              "      <td>274.000000</td>\n",
              "      <td>5.000000</td>\n",
              "      <td>4.000000</td>\n",
              "      <td>1.000000</td>\n",
              "      <td>1.000000</td>\n",
              "      <td>5.200000</td>\n",
              "      <td>1.000000</td>\n",
              "      <td>17.000000</td>\n",
              "      <td>0.000000</td>\n",
              "      <td>5.300000</td>\n",
              "      <td>4.490000</td>\n",
              "      <td>2.000000</td>\n",
              "      <td>246590.000000</td>\n",
              "    </tr>\n",
              "    <tr>\n",
              "      <th>max</th>\n",
              "      <td>760.000000</td>\n",
              "      <td>8.000000</td>\n",
              "      <td>9.000000</td>\n",
              "      <td>1.000000</td>\n",
              "      <td>1.000000</td>\n",
              "      <td>6.900000</td>\n",
              "      <td>1.000000</td>\n",
              "      <td>22.000000</td>\n",
              "      <td>1.000000</td>\n",
              "      <td>6.900000</td>\n",
              "      <td>5.990000</td>\n",
              "      <td>3.000000</td>\n",
              "      <td>692086.000000</td>\n",
              "    </tr>\n",
              "  </tbody>\n",
              "</table>\n",
              "</div>\n",
              "      <button class=\"colab-df-convert\" onclick=\"convertToInteractive('df-f85168db-35cf-4383-9286-21703c001be4')\"\n",
              "              title=\"Convert this dataframe to an interactive table.\"\n",
              "              style=\"display:none;\">\n",
              "        \n",
              "  <svg xmlns=\"http://www.w3.org/2000/svg\" height=\"24px\"viewBox=\"0 0 24 24\"\n",
              "       width=\"24px\">\n",
              "    <path d=\"M0 0h24v24H0V0z\" fill=\"none\"/>\n",
              "    <path d=\"M18.56 5.44l.94 2.06.94-2.06 2.06-.94-2.06-.94-.94-2.06-.94 2.06-2.06.94zm-11 1L8.5 8.5l.94-2.06 2.06-.94-2.06-.94L8.5 2.5l-.94 2.06-2.06.94zm10 10l.94 2.06.94-2.06 2.06-.94-2.06-.94-.94-2.06-.94 2.06-2.06.94z\"/><path d=\"M17.41 7.96l-1.37-1.37c-.4-.4-.92-.59-1.43-.59-.52 0-1.04.2-1.43.59L10.3 9.45l-7.72 7.72c-.78.78-.78 2.05 0 2.83L4 21.41c.39.39.9.59 1.41.59.51 0 1.02-.2 1.41-.59l7.78-7.78 2.81-2.81c.8-.78.8-2.07 0-2.86zM5.41 20L4 18.59l7.72-7.72 1.47 1.35L5.41 20z\"/>\n",
              "  </svg>\n",
              "      </button>\n",
              "      \n",
              "  <style>\n",
              "    .colab-df-container {\n",
              "      display:flex;\n",
              "      flex-wrap:wrap;\n",
              "      gap: 12px;\n",
              "    }\n",
              "\n",
              "    .colab-df-convert {\n",
              "      background-color: #E8F0FE;\n",
              "      border: none;\n",
              "      border-radius: 50%;\n",
              "      cursor: pointer;\n",
              "      display: none;\n",
              "      fill: #1967D2;\n",
              "      height: 32px;\n",
              "      padding: 0 0 0 0;\n",
              "      width: 32px;\n",
              "    }\n",
              "\n",
              "    .colab-df-convert:hover {\n",
              "      background-color: #E2EBFA;\n",
              "      box-shadow: 0px 1px 2px rgba(60, 64, 67, 0.3), 0px 1px 3px 1px rgba(60, 64, 67, 0.15);\n",
              "      fill: #174EA6;\n",
              "    }\n",
              "\n",
              "    [theme=dark] .colab-df-convert {\n",
              "      background-color: #3B4455;\n",
              "      fill: #D2E3FC;\n",
              "    }\n",
              "\n",
              "    [theme=dark] .colab-df-convert:hover {\n",
              "      background-color: #434B5C;\n",
              "      box-shadow: 0px 1px 3px 1px rgba(0, 0, 0, 0.15);\n",
              "      filter: drop-shadow(0px 1px 2px rgba(0, 0, 0, 0.3));\n",
              "      fill: #FFFFFF;\n",
              "    }\n",
              "  </style>\n",
              "\n",
              "      <script>\n",
              "        const buttonEl =\n",
              "          document.querySelector('#df-f85168db-35cf-4383-9286-21703c001be4 button.colab-df-convert');\n",
              "        buttonEl.style.display =\n",
              "          google.colab.kernel.accessAllowed ? 'block' : 'none';\n",
              "\n",
              "        async function convertToInteractive(key) {\n",
              "          const element = document.querySelector('#df-f85168db-35cf-4383-9286-21703c001be4');\n",
              "          const dataTable =\n",
              "            await google.colab.kernel.invokeFunction('convertToInteractive',\n",
              "                                                     [key], {});\n",
              "          if (!dataTable) return;\n",
              "\n",
              "          const docLinkHtml = 'Like what you see? Visit the ' +\n",
              "            '<a target=\"_blank\" href=https://colab.research.google.com/notebooks/data_table.ipynb>data table notebook</a>'\n",
              "            + ' to learn more about interactive tables.';\n",
              "          element.innerHTML = '';\n",
              "          dataTable['output_type'] = 'display_data';\n",
              "          await google.colab.output.renderOutput(dataTable, element);\n",
              "          const docLink = document.createElement('div');\n",
              "          docLink.innerHTML = docLinkHtml;\n",
              "          element.appendChild(docLink);\n",
              "        }\n",
              "      </script>\n",
              "    </div>\n",
              "  </div>\n",
              "  "
            ]
          },
          "metadata": {},
          "execution_count": 94
        }
      ]
    },
    {
      "cell_type": "code",
      "source": [
        "df1.describe().transpose()"
      ],
      "metadata": {
        "colab": {
          "base_uri": "https://localhost:8080/",
          "height": 457
        },
        "id": "cXP3Pjs1iIGP",
        "outputId": "498623bd-4e46-4663-d45f-25c9e3f17e98"
      },
      "execution_count": 95,
      "outputs": [
        {
          "output_type": "execute_result",
          "data": {
            "text/plain": [
              "                             count           mean           std       min  \\\n",
              "house_size_sqm              4954.0     231.250908     94.571642     85.00   \n",
              "no_of_rooms                 4954.0       3.788252      1.585371      1.00   \n",
              "no_of_bathrooms             4954.0       3.199839      1.602300      1.00   \n",
              "parking_space               4954.0       0.763827      0.424772      0.00   \n",
              "front_garden                4954.0       0.627574      0.483500      0.00   \n",
              "distance_to_school          4954.0       3.454219      2.007358      0.10   \n",
              "wall_fence                  4954.0       0.630400      0.482745      0.00   \n",
              "house_age                   4954.0      11.444691      6.356991      1.00   \n",
              "water_front                 4954.0       0.048648      0.215152      0.00   \n",
              "distance_to_supermarket_km  4954.0       3.508639      1.991266      0.10   \n",
              "crime_rate_index            4954.0       2.986110      1.737742      0.01   \n",
              "room_size                   4954.0       1.738393      0.941126      0.00   \n",
              "property_value              4954.0  201974.738999  90031.882219  32622.00   \n",
              "\n",
              "                                  25%        50%        75%        max  \n",
              "house_size_sqm                 165.00     217.50     274.00     760.00  \n",
              "no_of_rooms                      3.00       4.00       5.00       8.00  \n",
              "no_of_bathrooms                  2.00       3.00       4.00       9.00  \n",
              "parking_space                    1.00       1.00       1.00       1.00  \n",
              "front_garden                     0.00       1.00       1.00       1.00  \n",
              "distance_to_school               1.70       3.40       5.20       6.90  \n",
              "wall_fence                       0.00       1.00       1.00       1.00  \n",
              "house_age                        6.00      11.00      17.00      22.00  \n",
              "water_front                      0.00       0.00       0.00       1.00  \n",
              "distance_to_supermarket_km       1.80       3.50       5.30       6.90  \n",
              "crime_rate_index                 1.47       3.02       4.49       5.99  \n",
              "room_size                        1.00       2.00       2.00       3.00  \n",
              "property_value              136777.00  194515.50  246590.00  692086.00  "
            ],
            "text/html": [
              "\n",
              "  <div id=\"df-8cd7ba25-2e09-47ac-9476-b6bc2bbab9b9\">\n",
              "    <div class=\"colab-df-container\">\n",
              "      <div>\n",
              "<style scoped>\n",
              "    .dataframe tbody tr th:only-of-type {\n",
              "        vertical-align: middle;\n",
              "    }\n",
              "\n",
              "    .dataframe tbody tr th {\n",
              "        vertical-align: top;\n",
              "    }\n",
              "\n",
              "    .dataframe thead th {\n",
              "        text-align: right;\n",
              "    }\n",
              "</style>\n",
              "<table border=\"1\" class=\"dataframe\">\n",
              "  <thead>\n",
              "    <tr style=\"text-align: right;\">\n",
              "      <th></th>\n",
              "      <th>count</th>\n",
              "      <th>mean</th>\n",
              "      <th>std</th>\n",
              "      <th>min</th>\n",
              "      <th>25%</th>\n",
              "      <th>50%</th>\n",
              "      <th>75%</th>\n",
              "      <th>max</th>\n",
              "    </tr>\n",
              "  </thead>\n",
              "  <tbody>\n",
              "    <tr>\n",
              "      <th>house_size_sqm</th>\n",
              "      <td>4954.0</td>\n",
              "      <td>231.250908</td>\n",
              "      <td>94.571642</td>\n",
              "      <td>85.00</td>\n",
              "      <td>165.00</td>\n",
              "      <td>217.50</td>\n",
              "      <td>274.00</td>\n",
              "      <td>760.00</td>\n",
              "    </tr>\n",
              "    <tr>\n",
              "      <th>no_of_rooms</th>\n",
              "      <td>4954.0</td>\n",
              "      <td>3.788252</td>\n",
              "      <td>1.585371</td>\n",
              "      <td>1.00</td>\n",
              "      <td>3.00</td>\n",
              "      <td>4.00</td>\n",
              "      <td>5.00</td>\n",
              "      <td>8.00</td>\n",
              "    </tr>\n",
              "    <tr>\n",
              "      <th>no_of_bathrooms</th>\n",
              "      <td>4954.0</td>\n",
              "      <td>3.199839</td>\n",
              "      <td>1.602300</td>\n",
              "      <td>1.00</td>\n",
              "      <td>2.00</td>\n",
              "      <td>3.00</td>\n",
              "      <td>4.00</td>\n",
              "      <td>9.00</td>\n",
              "    </tr>\n",
              "    <tr>\n",
              "      <th>parking_space</th>\n",
              "      <td>4954.0</td>\n",
              "      <td>0.763827</td>\n",
              "      <td>0.424772</td>\n",
              "      <td>0.00</td>\n",
              "      <td>1.00</td>\n",
              "      <td>1.00</td>\n",
              "      <td>1.00</td>\n",
              "      <td>1.00</td>\n",
              "    </tr>\n",
              "    <tr>\n",
              "      <th>front_garden</th>\n",
              "      <td>4954.0</td>\n",
              "      <td>0.627574</td>\n",
              "      <td>0.483500</td>\n",
              "      <td>0.00</td>\n",
              "      <td>0.00</td>\n",
              "      <td>1.00</td>\n",
              "      <td>1.00</td>\n",
              "      <td>1.00</td>\n",
              "    </tr>\n",
              "    <tr>\n",
              "      <th>distance_to_school</th>\n",
              "      <td>4954.0</td>\n",
              "      <td>3.454219</td>\n",
              "      <td>2.007358</td>\n",
              "      <td>0.10</td>\n",
              "      <td>1.70</td>\n",
              "      <td>3.40</td>\n",
              "      <td>5.20</td>\n",
              "      <td>6.90</td>\n",
              "    </tr>\n",
              "    <tr>\n",
              "      <th>wall_fence</th>\n",
              "      <td>4954.0</td>\n",
              "      <td>0.630400</td>\n",
              "      <td>0.482745</td>\n",
              "      <td>0.00</td>\n",
              "      <td>0.00</td>\n",
              "      <td>1.00</td>\n",
              "      <td>1.00</td>\n",
              "      <td>1.00</td>\n",
              "    </tr>\n",
              "    <tr>\n",
              "      <th>house_age</th>\n",
              "      <td>4954.0</td>\n",
              "      <td>11.444691</td>\n",
              "      <td>6.356991</td>\n",
              "      <td>1.00</td>\n",
              "      <td>6.00</td>\n",
              "      <td>11.00</td>\n",
              "      <td>17.00</td>\n",
              "      <td>22.00</td>\n",
              "    </tr>\n",
              "    <tr>\n",
              "      <th>water_front</th>\n",
              "      <td>4954.0</td>\n",
              "      <td>0.048648</td>\n",
              "      <td>0.215152</td>\n",
              "      <td>0.00</td>\n",
              "      <td>0.00</td>\n",
              "      <td>0.00</td>\n",
              "      <td>0.00</td>\n",
              "      <td>1.00</td>\n",
              "    </tr>\n",
              "    <tr>\n",
              "      <th>distance_to_supermarket_km</th>\n",
              "      <td>4954.0</td>\n",
              "      <td>3.508639</td>\n",
              "      <td>1.991266</td>\n",
              "      <td>0.10</td>\n",
              "      <td>1.80</td>\n",
              "      <td>3.50</td>\n",
              "      <td>5.30</td>\n",
              "      <td>6.90</td>\n",
              "    </tr>\n",
              "    <tr>\n",
              "      <th>crime_rate_index</th>\n",
              "      <td>4954.0</td>\n",
              "      <td>2.986110</td>\n",
              "      <td>1.737742</td>\n",
              "      <td>0.01</td>\n",
              "      <td>1.47</td>\n",
              "      <td>3.02</td>\n",
              "      <td>4.49</td>\n",
              "      <td>5.99</td>\n",
              "    </tr>\n",
              "    <tr>\n",
              "      <th>room_size</th>\n",
              "      <td>4954.0</td>\n",
              "      <td>1.738393</td>\n",
              "      <td>0.941126</td>\n",
              "      <td>0.00</td>\n",
              "      <td>1.00</td>\n",
              "      <td>2.00</td>\n",
              "      <td>2.00</td>\n",
              "      <td>3.00</td>\n",
              "    </tr>\n",
              "    <tr>\n",
              "      <th>property_value</th>\n",
              "      <td>4954.0</td>\n",
              "      <td>201974.738999</td>\n",
              "      <td>90031.882219</td>\n",
              "      <td>32622.00</td>\n",
              "      <td>136777.00</td>\n",
              "      <td>194515.50</td>\n",
              "      <td>246590.00</td>\n",
              "      <td>692086.00</td>\n",
              "    </tr>\n",
              "  </tbody>\n",
              "</table>\n",
              "</div>\n",
              "      <button class=\"colab-df-convert\" onclick=\"convertToInteractive('df-8cd7ba25-2e09-47ac-9476-b6bc2bbab9b9')\"\n",
              "              title=\"Convert this dataframe to an interactive table.\"\n",
              "              style=\"display:none;\">\n",
              "        \n",
              "  <svg xmlns=\"http://www.w3.org/2000/svg\" height=\"24px\"viewBox=\"0 0 24 24\"\n",
              "       width=\"24px\">\n",
              "    <path d=\"M0 0h24v24H0V0z\" fill=\"none\"/>\n",
              "    <path d=\"M18.56 5.44l.94 2.06.94-2.06 2.06-.94-2.06-.94-.94-2.06-.94 2.06-2.06.94zm-11 1L8.5 8.5l.94-2.06 2.06-.94-2.06-.94L8.5 2.5l-.94 2.06-2.06.94zm10 10l.94 2.06.94-2.06 2.06-.94-2.06-.94-.94-2.06-.94 2.06-2.06.94z\"/><path d=\"M17.41 7.96l-1.37-1.37c-.4-.4-.92-.59-1.43-.59-.52 0-1.04.2-1.43.59L10.3 9.45l-7.72 7.72c-.78.78-.78 2.05 0 2.83L4 21.41c.39.39.9.59 1.41.59.51 0 1.02-.2 1.41-.59l7.78-7.78 2.81-2.81c.8-.78.8-2.07 0-2.86zM5.41 20L4 18.59l7.72-7.72 1.47 1.35L5.41 20z\"/>\n",
              "  </svg>\n",
              "      </button>\n",
              "      \n",
              "  <style>\n",
              "    .colab-df-container {\n",
              "      display:flex;\n",
              "      flex-wrap:wrap;\n",
              "      gap: 12px;\n",
              "    }\n",
              "\n",
              "    .colab-df-convert {\n",
              "      background-color: #E8F0FE;\n",
              "      border: none;\n",
              "      border-radius: 50%;\n",
              "      cursor: pointer;\n",
              "      display: none;\n",
              "      fill: #1967D2;\n",
              "      height: 32px;\n",
              "      padding: 0 0 0 0;\n",
              "      width: 32px;\n",
              "    }\n",
              "\n",
              "    .colab-df-convert:hover {\n",
              "      background-color: #E2EBFA;\n",
              "      box-shadow: 0px 1px 2px rgba(60, 64, 67, 0.3), 0px 1px 3px 1px rgba(60, 64, 67, 0.15);\n",
              "      fill: #174EA6;\n",
              "    }\n",
              "\n",
              "    [theme=dark] .colab-df-convert {\n",
              "      background-color: #3B4455;\n",
              "      fill: #D2E3FC;\n",
              "    }\n",
              "\n",
              "    [theme=dark] .colab-df-convert:hover {\n",
              "      background-color: #434B5C;\n",
              "      box-shadow: 0px 1px 3px 1px rgba(0, 0, 0, 0.15);\n",
              "      filter: drop-shadow(0px 1px 2px rgba(0, 0, 0, 0.3));\n",
              "      fill: #FFFFFF;\n",
              "    }\n",
              "  </style>\n",
              "\n",
              "      <script>\n",
              "        const buttonEl =\n",
              "          document.querySelector('#df-8cd7ba25-2e09-47ac-9476-b6bc2bbab9b9 button.colab-df-convert');\n",
              "        buttonEl.style.display =\n",
              "          google.colab.kernel.accessAllowed ? 'block' : 'none';\n",
              "\n",
              "        async function convertToInteractive(key) {\n",
              "          const element = document.querySelector('#df-8cd7ba25-2e09-47ac-9476-b6bc2bbab9b9');\n",
              "          const dataTable =\n",
              "            await google.colab.kernel.invokeFunction('convertToInteractive',\n",
              "                                                     [key], {});\n",
              "          if (!dataTable) return;\n",
              "\n",
              "          const docLinkHtml = 'Like what you see? Visit the ' +\n",
              "            '<a target=\"_blank\" href=https://colab.research.google.com/notebooks/data_table.ipynb>data table notebook</a>'\n",
              "            + ' to learn more about interactive tables.';\n",
              "          element.innerHTML = '';\n",
              "          dataTable['output_type'] = 'display_data';\n",
              "          await google.colab.output.renderOutput(dataTable, element);\n",
              "          const docLink = document.createElement('div');\n",
              "          docLink.innerHTML = docLinkHtml;\n",
              "          element.appendChild(docLink);\n",
              "        }\n",
              "      </script>\n",
              "    </div>\n",
              "  </div>\n",
              "  "
            ]
          },
          "metadata": {},
          "execution_count": 95
        }
      ]
    },
    {
      "cell_type": "markdown",
      "source": [
        "Checking the correlations between the features"
      ],
      "metadata": {
        "id": "dEuQ7Onh5vD4"
      }
    },
    {
      "cell_type": "code",
      "source": [
        "df1.corr()"
      ],
      "metadata": {
        "colab": {
          "base_uri": "https://localhost:8080/",
          "height": 521
        },
        "id": "H9tjV77mkXnQ",
        "outputId": "40112b47-808a-439e-9c17-c48467df29c7"
      },
      "execution_count": 96,
      "outputs": [
        {
          "output_type": "execute_result",
          "data": {
            "text/plain": [
              "                            house_size_sqm  no_of_rooms  no_of_bathrooms  \\\n",
              "house_size_sqm                    1.000000     0.894753         0.677722   \n",
              "no_of_rooms                       0.894753     1.000000         0.710043   \n",
              "no_of_bathrooms                   0.677722     0.710043         1.000000   \n",
              "parking_space                     0.384615     0.493262         0.330699   \n",
              "front_garden                      0.500914     0.603783         0.419505   \n",
              "distance_to_school               -0.010658    -0.006162        -0.008322   \n",
              "wall_fence                        0.445266     0.547999         0.365661   \n",
              "house_age                         0.008198     0.003455         0.000966   \n",
              "water_front                       0.018977     0.026654         0.021575   \n",
              "distance_to_supermarket_km        0.001966    -0.007287        -0.002535   \n",
              "crime_rate_index                  0.008044     0.014644         0.010655   \n",
              "room_size                         0.322504     0.363811         0.258000   \n",
              "property_value                    0.964163     0.912155         0.686525   \n",
              "\n",
              "                            parking_space  front_garden  distance_to_school  \\\n",
              "house_size_sqm                   0.384615      0.500914           -0.010658   \n",
              "no_of_rooms                      0.493262      0.603783           -0.006162   \n",
              "no_of_bathrooms                  0.330699      0.419505           -0.008322   \n",
              "parking_space                    1.000000      0.368903            0.025226   \n",
              "front_garden                     0.368903      1.000000           -0.008106   \n",
              "distance_to_school               0.025226     -0.008106            1.000000   \n",
              "wall_fence                       0.314644      0.362512           -0.021986   \n",
              "house_age                       -0.001848      0.005548            0.011519   \n",
              "water_front                      0.017491      0.028637           -0.013448   \n",
              "distance_to_supermarket_km      -0.016110     -0.012637            0.010095   \n",
              "crime_rate_index                -0.007465     -0.009018           -0.002084   \n",
              "room_size                        0.202987      0.235309           -0.015233   \n",
              "property_value                   0.459860      0.543363           -0.072357   \n",
              "\n",
              "                            wall_fence  house_age  water_front  \\\n",
              "house_size_sqm                0.445266   0.008198     0.018977   \n",
              "no_of_rooms                   0.547999   0.003455     0.026654   \n",
              "no_of_bathrooms               0.365661   0.000966     0.021575   \n",
              "parking_space                 0.314644  -0.001848     0.017491   \n",
              "front_garden                  0.362512   0.005548     0.028637   \n",
              "distance_to_school           -0.021986   0.011519    -0.013448   \n",
              "wall_fence                    1.000000   0.011068     0.023470   \n",
              "house_age                     0.011068   1.000000     0.002780   \n",
              "water_front                   0.023470   0.002780     1.000000   \n",
              "distance_to_supermarket_km    0.001915  -0.002793     0.013628   \n",
              "crime_rate_index              0.014697  -0.000667    -0.039184   \n",
              "room_size                     0.199975  -0.013758     0.016998   \n",
              "property_value                0.530090  -0.037958     0.095613   \n",
              "\n",
              "                            distance_to_supermarket_km  crime_rate_index  \\\n",
              "house_size_sqm                                0.001966          0.008044   \n",
              "no_of_rooms                                  -0.007287          0.014644   \n",
              "no_of_bathrooms                              -0.002535          0.010655   \n",
              "parking_space                                -0.016110         -0.007465   \n",
              "front_garden                                 -0.012637         -0.009018   \n",
              "distance_to_school                            0.010095         -0.002084   \n",
              "wall_fence                                    0.001915          0.014697   \n",
              "house_age                                    -0.002793         -0.000667   \n",
              "water_front                                   0.013628         -0.039184   \n",
              "distance_to_supermarket_km                    1.000000          0.018026   \n",
              "crime_rate_index                              0.018026          1.000000   \n",
              "room_size                                    -0.005850         -0.013830   \n",
              "property_value                               -0.028634         -0.072801   \n",
              "\n",
              "                            room_size  property_value  \n",
              "house_size_sqm               0.322504        0.964163  \n",
              "no_of_rooms                  0.363811        0.912155  \n",
              "no_of_bathrooms              0.258000        0.686525  \n",
              "parking_space                0.202987        0.459860  \n",
              "front_garden                 0.235309        0.543363  \n",
              "distance_to_school          -0.015233       -0.072357  \n",
              "wall_fence                   0.199975        0.530090  \n",
              "house_age                   -0.013758       -0.037958  \n",
              "water_front                  0.016998        0.095613  \n",
              "distance_to_supermarket_km  -0.005850       -0.028634  \n",
              "crime_rate_index            -0.013830       -0.072801  \n",
              "room_size                    1.000000        0.317842  \n",
              "property_value               0.317842        1.000000  "
            ],
            "text/html": [
              "\n",
              "  <div id=\"df-0cc2293f-5769-4243-9b9b-d805f172176c\">\n",
              "    <div class=\"colab-df-container\">\n",
              "      <div>\n",
              "<style scoped>\n",
              "    .dataframe tbody tr th:only-of-type {\n",
              "        vertical-align: middle;\n",
              "    }\n",
              "\n",
              "    .dataframe tbody tr th {\n",
              "        vertical-align: top;\n",
              "    }\n",
              "\n",
              "    .dataframe thead th {\n",
              "        text-align: right;\n",
              "    }\n",
              "</style>\n",
              "<table border=\"1\" class=\"dataframe\">\n",
              "  <thead>\n",
              "    <tr style=\"text-align: right;\">\n",
              "      <th></th>\n",
              "      <th>house_size_sqm</th>\n",
              "      <th>no_of_rooms</th>\n",
              "      <th>no_of_bathrooms</th>\n",
              "      <th>parking_space</th>\n",
              "      <th>front_garden</th>\n",
              "      <th>distance_to_school</th>\n",
              "      <th>wall_fence</th>\n",
              "      <th>house_age</th>\n",
              "      <th>water_front</th>\n",
              "      <th>distance_to_supermarket_km</th>\n",
              "      <th>crime_rate_index</th>\n",
              "      <th>room_size</th>\n",
              "      <th>property_value</th>\n",
              "    </tr>\n",
              "  </thead>\n",
              "  <tbody>\n",
              "    <tr>\n",
              "      <th>house_size_sqm</th>\n",
              "      <td>1.000000</td>\n",
              "      <td>0.894753</td>\n",
              "      <td>0.677722</td>\n",
              "      <td>0.384615</td>\n",
              "      <td>0.500914</td>\n",
              "      <td>-0.010658</td>\n",
              "      <td>0.445266</td>\n",
              "      <td>0.008198</td>\n",
              "      <td>0.018977</td>\n",
              "      <td>0.001966</td>\n",
              "      <td>0.008044</td>\n",
              "      <td>0.322504</td>\n",
              "      <td>0.964163</td>\n",
              "    </tr>\n",
              "    <tr>\n",
              "      <th>no_of_rooms</th>\n",
              "      <td>0.894753</td>\n",
              "      <td>1.000000</td>\n",
              "      <td>0.710043</td>\n",
              "      <td>0.493262</td>\n",
              "      <td>0.603783</td>\n",
              "      <td>-0.006162</td>\n",
              "      <td>0.547999</td>\n",
              "      <td>0.003455</td>\n",
              "      <td>0.026654</td>\n",
              "      <td>-0.007287</td>\n",
              "      <td>0.014644</td>\n",
              "      <td>0.363811</td>\n",
              "      <td>0.912155</td>\n",
              "    </tr>\n",
              "    <tr>\n",
              "      <th>no_of_bathrooms</th>\n",
              "      <td>0.677722</td>\n",
              "      <td>0.710043</td>\n",
              "      <td>1.000000</td>\n",
              "      <td>0.330699</td>\n",
              "      <td>0.419505</td>\n",
              "      <td>-0.008322</td>\n",
              "      <td>0.365661</td>\n",
              "      <td>0.000966</td>\n",
              "      <td>0.021575</td>\n",
              "      <td>-0.002535</td>\n",
              "      <td>0.010655</td>\n",
              "      <td>0.258000</td>\n",
              "      <td>0.686525</td>\n",
              "    </tr>\n",
              "    <tr>\n",
              "      <th>parking_space</th>\n",
              "      <td>0.384615</td>\n",
              "      <td>0.493262</td>\n",
              "      <td>0.330699</td>\n",
              "      <td>1.000000</td>\n",
              "      <td>0.368903</td>\n",
              "      <td>0.025226</td>\n",
              "      <td>0.314644</td>\n",
              "      <td>-0.001848</td>\n",
              "      <td>0.017491</td>\n",
              "      <td>-0.016110</td>\n",
              "      <td>-0.007465</td>\n",
              "      <td>0.202987</td>\n",
              "      <td>0.459860</td>\n",
              "    </tr>\n",
              "    <tr>\n",
              "      <th>front_garden</th>\n",
              "      <td>0.500914</td>\n",
              "      <td>0.603783</td>\n",
              "      <td>0.419505</td>\n",
              "      <td>0.368903</td>\n",
              "      <td>1.000000</td>\n",
              "      <td>-0.008106</td>\n",
              "      <td>0.362512</td>\n",
              "      <td>0.005548</td>\n",
              "      <td>0.028637</td>\n",
              "      <td>-0.012637</td>\n",
              "      <td>-0.009018</td>\n",
              "      <td>0.235309</td>\n",
              "      <td>0.543363</td>\n",
              "    </tr>\n",
              "    <tr>\n",
              "      <th>distance_to_school</th>\n",
              "      <td>-0.010658</td>\n",
              "      <td>-0.006162</td>\n",
              "      <td>-0.008322</td>\n",
              "      <td>0.025226</td>\n",
              "      <td>-0.008106</td>\n",
              "      <td>1.000000</td>\n",
              "      <td>-0.021986</td>\n",
              "      <td>0.011519</td>\n",
              "      <td>-0.013448</td>\n",
              "      <td>0.010095</td>\n",
              "      <td>-0.002084</td>\n",
              "      <td>-0.015233</td>\n",
              "      <td>-0.072357</td>\n",
              "    </tr>\n",
              "    <tr>\n",
              "      <th>wall_fence</th>\n",
              "      <td>0.445266</td>\n",
              "      <td>0.547999</td>\n",
              "      <td>0.365661</td>\n",
              "      <td>0.314644</td>\n",
              "      <td>0.362512</td>\n",
              "      <td>-0.021986</td>\n",
              "      <td>1.000000</td>\n",
              "      <td>0.011068</td>\n",
              "      <td>0.023470</td>\n",
              "      <td>0.001915</td>\n",
              "      <td>0.014697</td>\n",
              "      <td>0.199975</td>\n",
              "      <td>0.530090</td>\n",
              "    </tr>\n",
              "    <tr>\n",
              "      <th>house_age</th>\n",
              "      <td>0.008198</td>\n",
              "      <td>0.003455</td>\n",
              "      <td>0.000966</td>\n",
              "      <td>-0.001848</td>\n",
              "      <td>0.005548</td>\n",
              "      <td>0.011519</td>\n",
              "      <td>0.011068</td>\n",
              "      <td>1.000000</td>\n",
              "      <td>0.002780</td>\n",
              "      <td>-0.002793</td>\n",
              "      <td>-0.000667</td>\n",
              "      <td>-0.013758</td>\n",
              "      <td>-0.037958</td>\n",
              "    </tr>\n",
              "    <tr>\n",
              "      <th>water_front</th>\n",
              "      <td>0.018977</td>\n",
              "      <td>0.026654</td>\n",
              "      <td>0.021575</td>\n",
              "      <td>0.017491</td>\n",
              "      <td>0.028637</td>\n",
              "      <td>-0.013448</td>\n",
              "      <td>0.023470</td>\n",
              "      <td>0.002780</td>\n",
              "      <td>1.000000</td>\n",
              "      <td>0.013628</td>\n",
              "      <td>-0.039184</td>\n",
              "      <td>0.016998</td>\n",
              "      <td>0.095613</td>\n",
              "    </tr>\n",
              "    <tr>\n",
              "      <th>distance_to_supermarket_km</th>\n",
              "      <td>0.001966</td>\n",
              "      <td>-0.007287</td>\n",
              "      <td>-0.002535</td>\n",
              "      <td>-0.016110</td>\n",
              "      <td>-0.012637</td>\n",
              "      <td>0.010095</td>\n",
              "      <td>0.001915</td>\n",
              "      <td>-0.002793</td>\n",
              "      <td>0.013628</td>\n",
              "      <td>1.000000</td>\n",
              "      <td>0.018026</td>\n",
              "      <td>-0.005850</td>\n",
              "      <td>-0.028634</td>\n",
              "    </tr>\n",
              "    <tr>\n",
              "      <th>crime_rate_index</th>\n",
              "      <td>0.008044</td>\n",
              "      <td>0.014644</td>\n",
              "      <td>0.010655</td>\n",
              "      <td>-0.007465</td>\n",
              "      <td>-0.009018</td>\n",
              "      <td>-0.002084</td>\n",
              "      <td>0.014697</td>\n",
              "      <td>-0.000667</td>\n",
              "      <td>-0.039184</td>\n",
              "      <td>0.018026</td>\n",
              "      <td>1.000000</td>\n",
              "      <td>-0.013830</td>\n",
              "      <td>-0.072801</td>\n",
              "    </tr>\n",
              "    <tr>\n",
              "      <th>room_size</th>\n",
              "      <td>0.322504</td>\n",
              "      <td>0.363811</td>\n",
              "      <td>0.258000</td>\n",
              "      <td>0.202987</td>\n",
              "      <td>0.235309</td>\n",
              "      <td>-0.015233</td>\n",
              "      <td>0.199975</td>\n",
              "      <td>-0.013758</td>\n",
              "      <td>0.016998</td>\n",
              "      <td>-0.005850</td>\n",
              "      <td>-0.013830</td>\n",
              "      <td>1.000000</td>\n",
              "      <td>0.317842</td>\n",
              "    </tr>\n",
              "    <tr>\n",
              "      <th>property_value</th>\n",
              "      <td>0.964163</td>\n",
              "      <td>0.912155</td>\n",
              "      <td>0.686525</td>\n",
              "      <td>0.459860</td>\n",
              "      <td>0.543363</td>\n",
              "      <td>-0.072357</td>\n",
              "      <td>0.530090</td>\n",
              "      <td>-0.037958</td>\n",
              "      <td>0.095613</td>\n",
              "      <td>-0.028634</td>\n",
              "      <td>-0.072801</td>\n",
              "      <td>0.317842</td>\n",
              "      <td>1.000000</td>\n",
              "    </tr>\n",
              "  </tbody>\n",
              "</table>\n",
              "</div>\n",
              "      <button class=\"colab-df-convert\" onclick=\"convertToInteractive('df-0cc2293f-5769-4243-9b9b-d805f172176c')\"\n",
              "              title=\"Convert this dataframe to an interactive table.\"\n",
              "              style=\"display:none;\">\n",
              "        \n",
              "  <svg xmlns=\"http://www.w3.org/2000/svg\" height=\"24px\"viewBox=\"0 0 24 24\"\n",
              "       width=\"24px\">\n",
              "    <path d=\"M0 0h24v24H0V0z\" fill=\"none\"/>\n",
              "    <path d=\"M18.56 5.44l.94 2.06.94-2.06 2.06-.94-2.06-.94-.94-2.06-.94 2.06-2.06.94zm-11 1L8.5 8.5l.94-2.06 2.06-.94-2.06-.94L8.5 2.5l-.94 2.06-2.06.94zm10 10l.94 2.06.94-2.06 2.06-.94-2.06-.94-.94-2.06-.94 2.06-2.06.94z\"/><path d=\"M17.41 7.96l-1.37-1.37c-.4-.4-.92-.59-1.43-.59-.52 0-1.04.2-1.43.59L10.3 9.45l-7.72 7.72c-.78.78-.78 2.05 0 2.83L4 21.41c.39.39.9.59 1.41.59.51 0 1.02-.2 1.41-.59l7.78-7.78 2.81-2.81c.8-.78.8-2.07 0-2.86zM5.41 20L4 18.59l7.72-7.72 1.47 1.35L5.41 20z\"/>\n",
              "  </svg>\n",
              "      </button>\n",
              "      \n",
              "  <style>\n",
              "    .colab-df-container {\n",
              "      display:flex;\n",
              "      flex-wrap:wrap;\n",
              "      gap: 12px;\n",
              "    }\n",
              "\n",
              "    .colab-df-convert {\n",
              "      background-color: #E8F0FE;\n",
              "      border: none;\n",
              "      border-radius: 50%;\n",
              "      cursor: pointer;\n",
              "      display: none;\n",
              "      fill: #1967D2;\n",
              "      height: 32px;\n",
              "      padding: 0 0 0 0;\n",
              "      width: 32px;\n",
              "    }\n",
              "\n",
              "    .colab-df-convert:hover {\n",
              "      background-color: #E2EBFA;\n",
              "      box-shadow: 0px 1px 2px rgba(60, 64, 67, 0.3), 0px 1px 3px 1px rgba(60, 64, 67, 0.15);\n",
              "      fill: #174EA6;\n",
              "    }\n",
              "\n",
              "    [theme=dark] .colab-df-convert {\n",
              "      background-color: #3B4455;\n",
              "      fill: #D2E3FC;\n",
              "    }\n",
              "\n",
              "    [theme=dark] .colab-df-convert:hover {\n",
              "      background-color: #434B5C;\n",
              "      box-shadow: 0px 1px 3px 1px rgba(0, 0, 0, 0.15);\n",
              "      filter: drop-shadow(0px 1px 2px rgba(0, 0, 0, 0.3));\n",
              "      fill: #FFFFFF;\n",
              "    }\n",
              "  </style>\n",
              "\n",
              "      <script>\n",
              "        const buttonEl =\n",
              "          document.querySelector('#df-0cc2293f-5769-4243-9b9b-d805f172176c button.colab-df-convert');\n",
              "        buttonEl.style.display =\n",
              "          google.colab.kernel.accessAllowed ? 'block' : 'none';\n",
              "\n",
              "        async function convertToInteractive(key) {\n",
              "          const element = document.querySelector('#df-0cc2293f-5769-4243-9b9b-d805f172176c');\n",
              "          const dataTable =\n",
              "            await google.colab.kernel.invokeFunction('convertToInteractive',\n",
              "                                                     [key], {});\n",
              "          if (!dataTable) return;\n",
              "\n",
              "          const docLinkHtml = 'Like what you see? Visit the ' +\n",
              "            '<a target=\"_blank\" href=https://colab.research.google.com/notebooks/data_table.ipynb>data table notebook</a>'\n",
              "            + ' to learn more about interactive tables.';\n",
              "          element.innerHTML = '';\n",
              "          dataTable['output_type'] = 'display_data';\n",
              "          await google.colab.output.renderOutput(dataTable, element);\n",
              "          const docLink = document.createElement('div');\n",
              "          docLink.innerHTML = docLinkHtml;\n",
              "          element.appendChild(docLink);\n",
              "        }\n",
              "      </script>\n",
              "    </div>\n",
              "  </div>\n",
              "  "
            ]
          },
          "metadata": {},
          "execution_count": 96
        }
      ]
    },
    {
      "cell_type": "code",
      "source": [
        "plt.figure(figsize=(14,10))\n",
        "sns.heatmap(df1.corr(), annot=True)"
      ],
      "metadata": {
        "colab": {
          "base_uri": "https://localhost:8080/",
          "height": 749
        },
        "id": "wkFudLH8ieLW",
        "outputId": "2b0e81cd-65ba-4aba-eb8f-ba0a52bfc613"
      },
      "execution_count": 97,
      "outputs": [
        {
          "output_type": "execute_result",
          "data": {
            "text/plain": [
              "<matplotlib.axes._subplots.AxesSubplot at 0x7f6ced2d63d0>"
            ]
          },
          "metadata": {},
          "execution_count": 97
        },
        {
          "output_type": "display_data",
          "data": {
            "text/plain": [
              "<Figure size 1008x720 with 2 Axes>"
            ],
            "image/png": "[encoded data removed]"
          },
          "metadata": {
            "needs_background": "light"
          }
        }
      ]
    },
    {
      "cell_type": "code",
      "source": [
        "sns.distplot(df1['property_value'])"
      ],
      "metadata": {
        "colab": {
          "base_uri": "https://localhost:8080/",
          "height": 363
        },
        "id": "saP0Eq6HiKvF",
        "outputId": "d9c5a6b4-9a68-4238-a915-66b15a6d91d0"
      },
      "execution_count": 98,
      "outputs": [
        {
          "output_type": "stream",
          "name": "stderr",
          "text": [
            "/usr/local/lib/python3.7/dist-packages/seaborn/distributions.py:2619: FutureWarning: `distplot` is a deprecated function and will be removed in a future version. Please adapt your code to use either `displot` (a figure-level function with similar flexibility) or `histplot` (an axes-level function for histograms).\n",
            "  warnings.warn(msg, FutureWarning)\n"
          ]
        },
        {
          "output_type": "execute_result",
          "data": {
            "text/plain": [
              "<matplotlib.axes._subplots.AxesSubplot at 0x7f6cecfe2cd0>"
            ]
          },
          "metadata": {},
          "execution_count": 98
        },
        {
          "output_type": "display_data",
          "data": {
            "text/plain": [
              "<Figure size 432x288 with 1 Axes>"
            ],
            "image/png": "[encoded data removed]"
          },
          "metadata": {
            "needs_background": "light"
          }
        }
      ]
    },
    {
      "cell_type": "code",
      "source": [
        "df1.info()"
      ],
      "metadata": {
        "colab": {
          "base_uri": "https://localhost:8080/"
        },
        "id": "1kTfAr-Wiu6f",
        "outputId": "70e9ec71-04dc-4d48-95c0-75283447b7cf"
      },
      "execution_count": 99,
      "outputs": [
        {
          "output_type": "stream",
          "name": "stdout",
          "text": [
            "<class 'pandas.core.frame.DataFrame'>\n",
            "RangeIndex: 4954 entries, 0 to 4953\n",
            "Data columns (total 16 columns):\n",
            " #   Column                      Non-Null Count  Dtype  \n",
            "---  ------                      --------------  -----  \n",
            " 0   land_size_sqm               4954 non-null   object \n",
            " 1   house_size_sqm              4954 non-null   int64  \n",
            " 2   no_of_rooms                 4954 non-null   int64  \n",
            " 3   no_of_bathrooms             4954 non-null   int64  \n",
            " 4   living_room_size            4954 non-null   object \n",
            " 5   parking_space               4954 non-null   int64  \n",
            " 6   front_garden                4954 non-null   int64  \n",
            " 7   swimming_pool               4954 non-null   object \n",
            " 8   distance_to_school          4954 non-null   float64\n",
            " 9   wall_fence                  4954 non-null   int64  \n",
            " 10  house_age                   4954 non-null   int64  \n",
            " 11  water_front                 4954 non-null   int64  \n",
            " 12  distance_to_supermarket_km  4954 non-null   float64\n",
            " 13  crime_rate_index            4954 non-null   float64\n",
            " 14  room_size                   4954 non-null   int64  \n",
            " 15  property_value              4954 non-null   int64  \n",
            "dtypes: float64(3), int64(10), object(3)\n",
            "memory usage: 619.4+ KB\n"
          ]
        }
      ]
    },
    {
      "cell_type": "code",
      "source": [
        "df1['land_size_sqm']"
      ],
      "metadata": {
        "colab": {
          "base_uri": "https://localhost:8080/"
        },
        "id": "7DtNlUJGk6pu",
        "outputId": "60224bb7-050a-45ff-8069-5d5c9c04d4c9"
      },
      "execution_count": 100,
      "outputs": [
        {
          "output_type": "execute_result",
          "data": {
            "text/plain": [
              "0       201 sqm\n",
              "1       196 sqm\n",
              "2       198 sqm\n",
              "3       178 sqm\n",
              "4       183 sqm\n",
              "         ...   \n",
              "4949    297 sqm\n",
              "4950    302 sqm\n",
              "4951    153 sqm\n",
              "4952    180 sqm\n",
              "4953    695 sqm\n",
              "Name: land_size_sqm, Length: 4954, dtype: object"
            ]
          },
          "metadata": {},
          "execution_count": 100
        }
      ]
    },
    {
      "cell_type": "markdown",
      "source": [
        "Data Preprocessing | We are trying to remove the space and 'sqm' from our land_size_sqm column data\n",
        "We can do this 2 ways\n",
        "1. Creating a normal user defined function\n",
        "2. Creating a lambda function"
      ],
      "metadata": {
        "id": "QoUdHSYW59fI"
      }
    },
    {
      "cell_type": "code",
      "source": [
        "df1['land_size_sqm'][0][:-4]\n",
        "# We have to neglect the last 4 characters which include the space and also the string 'sqm'"
      ],
      "metadata": {
        "colab": {
          "base_uri": "https://localhost:8080/",
          "height": 35
        },
        "id": "62darENElAPA",
        "outputId": "4803aa94-87d2-45ae-fc91-0d1d91c37c2d"
      },
      "execution_count": 101,
      "outputs": [
        {
          "output_type": "execute_result",
          "data": {
            "text/plain": [
              "'201'"
            ],
            "application/vnd.google.colaboratory.intrinsic+json": {
              "type": "string"
            }
          },
          "metadata": {},
          "execution_count": 101
        }
      ]
    },
    {
      "cell_type": "code",
      "source": [
        "# For applying this to all we can go with this approach or by lamda function\n",
        "def land_size(x):\n",
        "  return x[:-4]"
      ],
      "metadata": {
        "id": "QcpUAPKXlR5i"
      },
      "execution_count": 102,
      "outputs": []
    },
    {
      "cell_type": "code",
      "source": [
        "df1['land_size_sqm'].apply(land_size)"
      ],
      "metadata": {
        "colab": {
          "base_uri": "https://localhost:8080/"
        },
        "id": "6wBLpcZImHvd",
        "outputId": "b4266dc3-f058-4231-bbf2-c7486185bbe4"
      },
      "execution_count": 103,
      "outputs": [
        {
          "output_type": "execute_result",
          "data": {
            "text/plain": [
              "0       201\n",
              "1       196\n",
              "2       198\n",
              "3       178\n",
              "4       183\n",
              "       ... \n",
              "4949    297\n",
              "4950    302\n",
              "4951    153\n",
              "4952    180\n",
              "4953    695\n",
              "Name: land_size_sqm, Length: 4954, dtype: object"
            ]
          },
          "metadata": {},
          "execution_count": 103
        }
      ]
    },
    {
      "cell_type": "code",
      "source": [
        "# By lambda function\n",
        "df1['land_size_sqm'] = df1['land_size_sqm'].apply(lambda x: int(x[:-4]))"
      ],
      "metadata": {
        "id": "lHVmAkTXnRff"
      },
      "execution_count": 104,
      "outputs": []
    },
    {
      "cell_type": "code",
      "source": [
        "df1['land_size_sqm']"
      ],
      "metadata": {
        "colab": {
          "base_uri": "https://localhost:8080/"
        },
        "id": "7dIUldrMmF2c",
        "outputId": "cd71f894-e591-4020-918e-ae0166d8613c"
      },
      "execution_count": 105,
      "outputs": [
        {
          "output_type": "execute_result",
          "data": {
            "text/plain": [
              "0       201\n",
              "1       196\n",
              "2       198\n",
              "3       178\n",
              "4       183\n",
              "       ... \n",
              "4949    297\n",
              "4950    302\n",
              "4951    153\n",
              "4952    180\n",
              "4953    695\n",
              "Name: land_size_sqm, Length: 4954, dtype: int64"
            ]
          },
          "metadata": {},
          "execution_count": 105
        }
      ]
    },
    {
      "cell_type": "code",
      "source": [
        "df1.info()"
      ],
      "metadata": {
        "colab": {
          "base_uri": "https://localhost:8080/"
        },
        "id": "u4_RD5xRnPAl",
        "outputId": "48fdc329-091c-4dc4-b72c-a533b60263ee"
      },
      "execution_count": 106,
      "outputs": [
        {
          "output_type": "stream",
          "name": "stdout",
          "text": [
            "<class 'pandas.core.frame.DataFrame'>\n",
            "RangeIndex: 4954 entries, 0 to 4953\n",
            "Data columns (total 16 columns):\n",
            " #   Column                      Non-Null Count  Dtype  \n",
            "---  ------                      --------------  -----  \n",
            " 0   land_size_sqm               4954 non-null   int64  \n",
            " 1   house_size_sqm              4954 non-null   int64  \n",
            " 2   no_of_rooms                 4954 non-null   int64  \n",
            " 3   no_of_bathrooms             4954 non-null   int64  \n",
            " 4   living_room_size            4954 non-null   object \n",
            " 5   parking_space               4954 non-null   int64  \n",
            " 6   front_garden                4954 non-null   int64  \n",
            " 7   swimming_pool               4954 non-null   object \n",
            " 8   distance_to_school          4954 non-null   float64\n",
            " 9   wall_fence                  4954 non-null   int64  \n",
            " 10  house_age                   4954 non-null   int64  \n",
            " 11  water_front                 4954 non-null   int64  \n",
            " 12  distance_to_supermarket_km  4954 non-null   float64\n",
            " 13  crime_rate_index            4954 non-null   float64\n",
            " 14  room_size                   4954 non-null   int64  \n",
            " 15  property_value              4954 non-null   int64  \n",
            "dtypes: float64(3), int64(11), object(2)\n",
            "memory usage: 619.4+ KB\n"
          ]
        }
      ]
    },
    {
      "cell_type": "markdown",
      "source": [
        "Data preprocessing | We will convert the object dtype to numerical (for the categorical data)"
      ],
      "metadata": {
        "id": "9AgvTf-06YEG"
      }
    },
    {
      "cell_type": "code",
      "source": [
        "df1['swimming_pool'].unique()"
      ],
      "metadata": {
        "colab": {
          "base_uri": "https://localhost:8080/"
        },
        "id": "X8_84DQaniF-",
        "outputId": "1946b2da-0f05-4ca2-da08-5b09d4734ef7"
      },
      "execution_count": 107,
      "outputs": [
        {
          "output_type": "execute_result",
          "data": {
            "text/plain": [
              "array(['No', 'Yes'], dtype=object)"
            ]
          },
          "metadata": {},
          "execution_count": 107
        }
      ]
    },
    {
      "cell_type": "code",
      "source": [
        "df1['swimming_pool'].apply(lambda x: 1 if x =='Yes' else 0)"
      ],
      "metadata": {
        "colab": {
          "base_uri": "https://localhost:8080/"
        },
        "id": "YZy1DznynpI_",
        "outputId": "02b33af8-48f8-4134-82b3-430eadedfe84"
      },
      "execution_count": 108,
      "outputs": [
        {
          "output_type": "execute_result",
          "data": {
            "text/plain": [
              "0       0\n",
              "1       1\n",
              "2       1\n",
              "3       0\n",
              "4       0\n",
              "       ..\n",
              "4949    1\n",
              "4950    1\n",
              "4951    0\n",
              "4952    1\n",
              "4953    1\n",
              "Name: swimming_pool, Length: 4954, dtype: int64"
            ]
          },
          "metadata": {},
          "execution_count": 108
        }
      ]
    },
    {
      "cell_type": "code",
      "source": [
        "df1['swimming_pool'] = df1['swimming_pool'].apply(lambda x: 1 if x =='Yes' else 0)"
      ],
      "metadata": {
        "id": "wqgqBTP7n6h3"
      },
      "execution_count": 109,
      "outputs": []
    },
    {
      "cell_type": "code",
      "source": [
        "df1.info()"
      ],
      "metadata": {
        "colab": {
          "base_uri": "https://localhost:8080/"
        },
        "id": "9yuIpzmvoG8h",
        "outputId": "9f99580d-f1a7-48e6-9a32-cdfe6abaf2de"
      },
      "execution_count": 110,
      "outputs": [
        {
          "output_type": "stream",
          "name": "stdout",
          "text": [
            "<class 'pandas.core.frame.DataFrame'>\n",
            "RangeIndex: 4954 entries, 0 to 4953\n",
            "Data columns (total 16 columns):\n",
            " #   Column                      Non-Null Count  Dtype  \n",
            "---  ------                      --------------  -----  \n",
            " 0   land_size_sqm               4954 non-null   int64  \n",
            " 1   house_size_sqm              4954 non-null   int64  \n",
            " 2   no_of_rooms                 4954 non-null   int64  \n",
            " 3   no_of_bathrooms             4954 non-null   int64  \n",
            " 4   living_room_size            4954 non-null   object \n",
            " 5   parking_space               4954 non-null   int64  \n",
            " 6   front_garden                4954 non-null   int64  \n",
            " 7   swimming_pool               4954 non-null   int64  \n",
            " 8   distance_to_school          4954 non-null   float64\n",
            " 9   wall_fence                  4954 non-null   int64  \n",
            " 10  house_age                   4954 non-null   int64  \n",
            " 11  water_front                 4954 non-null   int64  \n",
            " 12  distance_to_supermarket_km  4954 non-null   float64\n",
            " 13  crime_rate_index            4954 non-null   float64\n",
            " 14  room_size                   4954 non-null   int64  \n",
            " 15  property_value              4954 non-null   int64  \n",
            "dtypes: float64(3), int64(12), object(1)\n",
            "memory usage: 619.4+ KB\n"
          ]
        }
      ]
    },
    {
      "cell_type": "code",
      "source": [
        "df1['living_room_size'].unique()\n",
        "# We can check the unique values here, doing this for assigning small to 0 and large `1"
      ],
      "metadata": {
        "colab": {
          "base_uri": "https://localhost:8080/"
        },
        "id": "P8ga-mgwoM77",
        "outputId": "273e0bea-ea94-46ac-eaf9-dc7a505b6fc5"
      },
      "execution_count": 111,
      "outputs": [
        {
          "output_type": "execute_result",
          "data": {
            "text/plain": [
              "array(['Small', 'Large'], dtype=object)"
            ]
          },
          "metadata": {},
          "execution_count": 111
        }
      ]
    },
    {
      "cell_type": "code",
      "source": [
        "df1['living_room_size'] = df1['living_room_size'].apply(lambda x: 0 if x=='Small' else 1)"
      ],
      "metadata": {
        "id": "vZNdWb4_oQoZ"
      },
      "execution_count": 112,
      "outputs": []
    },
    {
      "cell_type": "code",
      "source": [
        "df1['living_room_size']"
      ],
      "metadata": {
        "colab": {
          "base_uri": "https://localhost:8080/"
        },
        "id": "QTzwUszDoxhu",
        "outputId": "a7305b14-8437-43f9-ebac-003548b2ccef"
      },
      "execution_count": 113,
      "outputs": [
        {
          "output_type": "execute_result",
          "data": {
            "text/plain": [
              "0       0\n",
              "1       1\n",
              "2       1\n",
              "3       0\n",
              "4       1\n",
              "       ..\n",
              "4949    1\n",
              "4950    1\n",
              "4951    1\n",
              "4952    0\n",
              "4953    1\n",
              "Name: living_room_size, Length: 4954, dtype: int64"
            ]
          },
          "metadata": {},
          "execution_count": 113
        }
      ]
    },
    {
      "cell_type": "code",
      "source": [
        "df1.head()"
      ],
      "metadata": {
        "colab": {
          "base_uri": "https://localhost:8080/",
          "height": 270
        },
        "id": "AcLQEv2Mo14-",
        "outputId": "abf0b40f-873e-4d49-900c-10d75c457d30"
      },
      "execution_count": 114,
      "outputs": [
        {
          "output_type": "execute_result",
          "data": {
            "text/plain": [
              "   land_size_sqm  house_size_sqm  no_of_rooms  no_of_bathrooms  \\\n",
              "0            201             177            3                1   \n",
              "1            196             182            4                3   \n",
              "2            198             182            4                4   \n",
              "3            178             166            2                3   \n",
              "4            183             165            3                1   \n",
              "\n",
              "   living_room_size  parking_space  front_garden  swimming_pool  \\\n",
              "0                 0              1             1              0   \n",
              "1                 1              1             0              1   \n",
              "2                 1              1             0              1   \n",
              "3                 0              1             0              0   \n",
              "4                 1              1             0              0   \n",
              "\n",
              "   distance_to_school  wall_fence  house_age  water_front  \\\n",
              "0                 3.3           1         10            0   \n",
              "1                 1.2           1         11            0   \n",
              "2                 5.9           0         20            0   \n",
              "3                 5.9           0          5            0   \n",
              "4                 3.8           1          8            0   \n",
              "\n",
              "   distance_to_supermarket_km  crime_rate_index  room_size  property_value  \n",
              "0                         6.8              0.90          0          165432  \n",
              "1                         4.1              1.42          1          187043  \n",
              "2                         2.1              4.12          1          148658  \n",
              "3                         0.7              4.36          0          123785  \n",
              "4                         0.7              0.42          0          156470  "
            ],
            "text/html": [
              "\n",
              "  <div id=\"df-1dd197e1-2852-4e0d-845d-5199ed229707\">\n",
              "    <div class=\"colab-df-container\">\n",
              "      <div>\n",
              "<style scoped>\n",
              "    .dataframe tbody tr th:only-of-type {\n",
              "        vertical-align: middle;\n",
              "    }\n",
              "\n",
              "    .dataframe tbody tr th {\n",
              "        vertical-align: top;\n",
              "    }\n",
              "\n",
              "    .dataframe thead th {\n",
              "        text-align: right;\n",
              "    }\n",
              "</style>\n",
              "<table border=\"1\" class=\"dataframe\">\n",
              "  <thead>\n",
              "    <tr style=\"text-align: right;\">\n",
              "      <th></th>\n",
              "      <th>land_size_sqm</th>\n",
              "      <th>house_size_sqm</th>\n",
              "      <th>no_of_rooms</th>\n",
              "      <th>no_of_bathrooms</th>\n",
              "      <th>living_room_size</th>\n",
              "      <th>parking_space</th>\n",
              "      <th>front_garden</th>\n",
              "      <th>swimming_pool</th>\n",
              "      <th>distance_to_school</th>\n",
              "      <th>wall_fence</th>\n",
              "      <th>house_age</th>\n",
              "      <th>water_front</th>\n",
              "      <th>distance_to_supermarket_km</th>\n",
              "      <th>crime_rate_index</th>\n",
              "      <th>room_size</th>\n",
              "      <th>property_value</th>\n",
              "    </tr>\n",
              "  </thead>\n",
              "  <tbody>\n",
              "    <tr>\n",
              "      <th>0</th>\n",
              "      <td>201</td>\n",
              "      <td>177</td>\n",
              "      <td>3</td>\n",
              "      <td>1</td>\n",
              "      <td>0</td>\n",
              "      <td>1</td>\n",
              "      <td>1</td>\n",
              "      <td>0</td>\n",
              "      <td>3.3</td>\n",
              "      <td>1</td>\n",
              "      <td>10</td>\n",
              "      <td>0</td>\n",
              "      <td>6.8</td>\n",
              "      <td>0.90</td>\n",
              "      <td>0</td>\n",
              "      <td>165432</td>\n",
              "    </tr>\n",
              "    <tr>\n",
              "      <th>1</th>\n",
              "      <td>196</td>\n",
              "      <td>182</td>\n",
              "      <td>4</td>\n",
              "      <td>3</td>\n",
              "      <td>1</td>\n",
              "      <td>1</td>\n",
              "      <td>0</td>\n",
              "      <td>1</td>\n",
              "      <td>1.2</td>\n",
              "      <td>1</td>\n",
              "      <td>11</td>\n",
              "      <td>0</td>\n",
              "      <td>4.1</td>\n",
              "      <td>1.42</td>\n",
              "      <td>1</td>\n",
              "      <td>187043</td>\n",
              "    </tr>\n",
              "    <tr>\n",
              "      <th>2</th>\n",
              "      <td>198</td>\n",
              "      <td>182</td>\n",
              "      <td>4</td>\n",
              "      <td>4</td>\n",
              "      <td>1</td>\n",
              "      <td>1</td>\n",
              "      <td>0</td>\n",
              "      <td>1</td>\n",
              "      <td>5.9</td>\n",
              "      <td>0</td>\n",
              "      <td>20</td>\n",
              "      <td>0</td>\n",
              "      <td>2.1</td>\n",
              "      <td>4.12</td>\n",
              "      <td>1</td>\n",
              "      <td>148658</td>\n",
              "    </tr>\n",
              "    <tr>\n",
              "      <th>3</th>\n",
              "      <td>178</td>\n",
              "      <td>166</td>\n",
              "      <td>2</td>\n",
              "      <td>3</td>\n",
              "      <td>0</td>\n",
              "      <td>1</td>\n",
              "      <td>0</td>\n",
              "      <td>0</td>\n",
              "      <td>5.9</td>\n",
              "      <td>0</td>\n",
              "      <td>5</td>\n",
              "      <td>0</td>\n",
              "      <td>0.7</td>\n",
              "      <td>4.36</td>\n",
              "      <td>0</td>\n",
              "      <td>123785</td>\n",
              "    </tr>\n",
              "    <tr>\n",
              "      <th>4</th>\n",
              "      <td>183</td>\n",
              "      <td>165</td>\n",
              "      <td>3</td>\n",
              "      <td>1</td>\n",
              "      <td>1</td>\n",
              "      <td>1</td>\n",
              "      <td>0</td>\n",
              "      <td>0</td>\n",
              "      <td>3.8</td>\n",
              "      <td>1</td>\n",
              "      <td>8</td>\n",
              "      <td>0</td>\n",
              "      <td>0.7</td>\n",
              "      <td>0.42</td>\n",
              "      <td>0</td>\n",
              "      <td>156470</td>\n",
              "    </tr>\n",
              "  </tbody>\n",
              "</table>\n",
              "</div>\n",
              "      <button class=\"colab-df-convert\" onclick=\"convertToInteractive('df-1dd197e1-2852-4e0d-845d-5199ed229707')\"\n",
              "              title=\"Convert this dataframe to an interactive table.\"\n",
              "              style=\"display:none;\">\n",
              "        \n",
              "  <svg xmlns=\"http://www.w3.org/2000/svg\" height=\"24px\"viewBox=\"0 0 24 24\"\n",
              "       width=\"24px\">\n",
              "    <path d=\"M0 0h24v24H0V0z\" fill=\"none\"/>\n",
              "    <path d=\"M18.56 5.44l.94 2.06.94-2.06 2.06-.94-2.06-.94-.94-2.06-.94 2.06-2.06.94zm-11 1L8.5 8.5l.94-2.06 2.06-.94-2.06-.94L8.5 2.5l-.94 2.06-2.06.94zm10 10l.94 2.06.94-2.06 2.06-.94-2.06-.94-.94-2.06-.94 2.06-2.06.94z\"/><path d=\"M17.41 7.96l-1.37-1.37c-.4-.4-.92-.59-1.43-.59-.52 0-1.04.2-1.43.59L10.3 9.45l-7.72 7.72c-.78.78-.78 2.05 0 2.83L4 21.41c.39.39.9.59 1.41.59.51 0 1.02-.2 1.41-.59l7.78-7.78 2.81-2.81c.8-.78.8-2.07 0-2.86zM5.41 20L4 18.59l7.72-7.72 1.47 1.35L5.41 20z\"/>\n",
              "  </svg>\n",
              "      </button>\n",
              "      \n",
              "  <style>\n",
              "    .colab-df-container {\n",
              "      display:flex;\n",
              "      flex-wrap:wrap;\n",
              "      gap: 12px;\n",
              "    }\n",
              "\n",
              "    .colab-df-convert {\n",
              "      background-color: #E8F0FE;\n",
              "      border: none;\n",
              "      border-radius: 50%;\n",
              "      cursor: pointer;\n",
              "      display: none;\n",
              "      fill: #1967D2;\n",
              "      height: 32px;\n",
              "      padding: 0 0 0 0;\n",
              "      width: 32px;\n",
              "    }\n",
              "\n",
              "    .colab-df-convert:hover {\n",
              "      background-color: #E2EBFA;\n",
              "      box-shadow: 0px 1px 2px rgba(60, 64, 67, 0.3), 0px 1px 3px 1px rgba(60, 64, 67, 0.15);\n",
              "      fill: #174EA6;\n",
              "    }\n",
              "\n",
              "    [theme=dark] .colab-df-convert {\n",
              "      background-color: #3B4455;\n",
              "      fill: #D2E3FC;\n",
              "    }\n",
              "\n",
              "    [theme=dark] .colab-df-convert:hover {\n",
              "      background-color: #434B5C;\n",
              "      box-shadow: 0px 1px 3px 1px rgba(0, 0, 0, 0.15);\n",
              "      filter: drop-shadow(0px 1px 2px rgba(0, 0, 0, 0.3));\n",
              "      fill: #FFFFFF;\n",
              "    }\n",
              "  </style>\n",
              "\n",
              "      <script>\n",
              "        const buttonEl =\n",
              "          document.querySelector('#df-1dd197e1-2852-4e0d-845d-5199ed229707 button.colab-df-convert');\n",
              "        buttonEl.style.display =\n",
              "          google.colab.kernel.accessAllowed ? 'block' : 'none';\n",
              "\n",
              "        async function convertToInteractive(key) {\n",
              "          const element = document.querySelector('#df-1dd197e1-2852-4e0d-845d-5199ed229707');\n",
              "          const dataTable =\n",
              "            await google.colab.kernel.invokeFunction('convertToInteractive',\n",
              "                                                     [key], {});\n",
              "          if (!dataTable) return;\n",
              "\n",
              "          const docLinkHtml = 'Like what you see? Visit the ' +\n",
              "            '<a target=\"_blank\" href=https://colab.research.google.com/notebooks/data_table.ipynb>data table notebook</a>'\n",
              "            + ' to learn more about interactive tables.';\n",
              "          element.innerHTML = '';\n",
              "          dataTable['output_type'] = 'display_data';\n",
              "          await google.colab.output.renderOutput(dataTable, element);\n",
              "          const docLink = document.createElement('div');\n",
              "          docLink.innerHTML = docLinkHtml;\n",
              "          element.appendChild(docLink);\n",
              "        }\n",
              "      </script>\n",
              "    </div>\n",
              "  </div>\n",
              "  "
            ]
          },
          "metadata": {},
          "execution_count": 114
        }
      ]
    },
    {
      "cell_type": "code",
      "source": [
        "df1.info()"
      ],
      "metadata": {
        "colab": {
          "base_uri": "https://localhost:8080/"
        },
        "id": "2GCpI6I1o9lH",
        "outputId": "362d517a-a7ff-44aa-a31c-445190e431c2"
      },
      "execution_count": 115,
      "outputs": [
        {
          "output_type": "stream",
          "name": "stdout",
          "text": [
            "<class 'pandas.core.frame.DataFrame'>\n",
            "RangeIndex: 4954 entries, 0 to 4953\n",
            "Data columns (total 16 columns):\n",
            " #   Column                      Non-Null Count  Dtype  \n",
            "---  ------                      --------------  -----  \n",
            " 0   land_size_sqm               4954 non-null   int64  \n",
            " 1   house_size_sqm              4954 non-null   int64  \n",
            " 2   no_of_rooms                 4954 non-null   int64  \n",
            " 3   no_of_bathrooms             4954 non-null   int64  \n",
            " 4   living_room_size            4954 non-null   int64  \n",
            " 5   parking_space               4954 non-null   int64  \n",
            " 6   front_garden                4954 non-null   int64  \n",
            " 7   swimming_pool               4954 non-null   int64  \n",
            " 8   distance_to_school          4954 non-null   float64\n",
            " 9   wall_fence                  4954 non-null   int64  \n",
            " 10  house_age                   4954 non-null   int64  \n",
            " 11  water_front                 4954 non-null   int64  \n",
            " 12  distance_to_supermarket_km  4954 non-null   float64\n",
            " 13  crime_rate_index            4954 non-null   float64\n",
            " 14  room_size                   4954 non-null   int64  \n",
            " 15  property_value              4954 non-null   int64  \n",
            "dtypes: float64(3), int64(13)\n",
            "memory usage: 619.4 KB\n"
          ]
        }
      ]
    },
    {
      "cell_type": "code",
      "source": [
        "plt.figure(figsize=(14,10))\n",
        "sns.heatmap(df1.corr(), annot = True)"
      ],
      "metadata": {
        "colab": {
          "base_uri": "https://localhost:8080/",
          "height": 749
        },
        "id": "D3cuUALQpLYX",
        "outputId": "898f899a-437a-42e1-974d-aa1a2e54238d"
      },
      "execution_count": 116,
      "outputs": [
        {
          "output_type": "execute_result",
          "data": {
            "text/plain": [
              "<matplotlib.axes._subplots.AxesSubplot at 0x7f6ced00c090>"
            ]
          },
          "metadata": {},
          "execution_count": 116
        },
        {
          "output_type": "display_data",
          "data": {
            "text/plain": [
              "<Figure size 1008x720 with 2 Axes>"
            ],
            "image/png": "[encoded data removed]"
          },
          "metadata": {
            "needs_background": "light"
          }
        }
      ]
    },
    {
      "cell_type": "code",
      "source": [
        "df1.columns"
      ],
      "metadata": {
        "id": "RfSwF1efpZ2c",
        "colab": {
          "base_uri": "https://localhost:8080/"
        },
        "outputId": "4c93b993-449d-4303-995e-5fb5b0a69272"
      },
      "execution_count": 117,
      "outputs": [
        {
          "output_type": "execute_result",
          "data": {
            "text/plain": [
              "Index(['land_size_sqm', 'house_size_sqm', 'no_of_rooms', 'no_of_bathrooms',\n",
              "       'living_room_size', 'parking_space', 'front_garden', 'swimming_pool',\n",
              "       'distance_to_school', 'wall_fence', 'house_age', 'water_front',\n",
              "       'distance_to_supermarket_km', 'crime_rate_index', 'room_size',\n",
              "       'property_value'],\n",
              "      dtype='object')"
            ]
          },
          "metadata": {},
          "execution_count": 117
        }
      ]
    },
    {
      "cell_type": "markdown",
      "source": [
        "Splitting the dependent and independent features"
      ],
      "metadata": {
        "id": "QWRSt0wJv4qq"
      }
    },
    {
      "cell_type": "code",
      "source": [
        "X = df1.drop(['property_value'], axis = 1)"
      ],
      "metadata": {
        "id": "x6VlY7qyuX4g"
      },
      "execution_count": 118,
      "outputs": []
    },
    {
      "cell_type": "code",
      "source": [
        "y = df1['property_value']"
      ],
      "metadata": {
        "id": "HBxQXVO3vgTb"
      },
      "execution_count": 119,
      "outputs": []
    },
    {
      "cell_type": "code",
      "source": [
        "X.shape"
      ],
      "metadata": {
        "colab": {
          "base_uri": "https://localhost:8080/"
        },
        "id": "x0SUvuLuyNCh",
        "outputId": "68a746a7-26d3-44b7-8fd7-037c9f4eb38b"
      },
      "execution_count": 120,
      "outputs": [
        {
          "output_type": "execute_result",
          "data": {
            "text/plain": [
              "(4954, 15)"
            ]
          },
          "metadata": {},
          "execution_count": 120
        }
      ]
    },
    {
      "cell_type": "code",
      "source": [
        "y.head()"
      ],
      "metadata": {
        "colab": {
          "base_uri": "https://localhost:8080/"
        },
        "id": "FzEJUGKzvkMp",
        "outputId": "79422a1a-2e8c-4033-84ee-4d431f743b29"
      },
      "execution_count": 121,
      "outputs": [
        {
          "output_type": "execute_result",
          "data": {
            "text/plain": [
              "0    165432\n",
              "1    187043\n",
              "2    148658\n",
              "3    123785\n",
              "4    156470\n",
              "Name: property_value, dtype: int64"
            ]
          },
          "metadata": {},
          "execution_count": 121
        }
      ]
    },
    {
      "cell_type": "markdown",
      "source": [
        "Test train split"
      ],
      "metadata": {
        "id": "UmdvM67KwFUj"
      }
    },
    {
      "cell_type": "code",
      "source": [
        "from sklearn.model_selection import train_test_split\n",
        "X_train, X_test, y_train, y_test = train_test_split(X, y, random_state=101, test_size=0.2)"
      ],
      "metadata": {
        "id": "MJKMNhJFwHlI"
      },
      "execution_count": 122,
      "outputs": []
    },
    {
      "cell_type": "code",
      "source": [
        "X_train.shape"
      ],
      "metadata": {
        "colab": {
          "base_uri": "https://localhost:8080/"
        },
        "id": "WvWKQe4nypeu",
        "outputId": "619752c2-e6eb-4924-81d7-9c0d3cc4689a"
      },
      "execution_count": 123,
      "outputs": [
        {
          "output_type": "execute_result",
          "data": {
            "text/plain": [
              "(3963, 15)"
            ]
          },
          "metadata": {},
          "execution_count": 123
        }
      ]
    },
    {
      "cell_type": "code",
      "source": [
        "X_test.shape"
      ],
      "metadata": {
        "colab": {
          "base_uri": "https://localhost:8080/"
        },
        "id": "2CijBjq2zMDb",
        "outputId": "85f79225-27e6-4760-db1c-532c91494dbf"
      },
      "execution_count": 124,
      "outputs": [
        {
          "output_type": "execute_result",
          "data": {
            "text/plain": [
              "(991, 15)"
            ]
          },
          "metadata": {},
          "execution_count": 124
        }
      ]
    },
    {
      "cell_type": "markdown",
      "source": [
        "Scaling the data "
      ],
      "metadata": {
        "id": "If3-ejg1zjZ-"
      }
    },
    {
      "cell_type": "code",
      "source": [
        "from sklearn.preprocessing import MinMaxScaler"
      ],
      "metadata": {
        "id": "iBU3ncSlzNPT"
      },
      "execution_count": 125,
      "outputs": []
    },
    {
      "cell_type": "code",
      "source": [
        "mscalar = MinMaxScaler()"
      ],
      "metadata": {
        "id": "Y9ljqknS0Khq"
      },
      "execution_count": 126,
      "outputs": []
    },
    {
      "cell_type": "code",
      "source": [
        "mscalar.fit(X_train)"
      ],
      "metadata": {
        "colab": {
          "base_uri": "https://localhost:8080/"
        },
        "id": "ovs0lYLo0OlC",
        "outputId": "1d02f571-e37c-41ae-de90-177b9c9ff001"
      },
      "execution_count": 127,
      "outputs": [
        {
          "output_type": "execute_result",
          "data": {
            "text/plain": [
              "MinMaxScaler()"
            ]
          },
          "metadata": {},
          "execution_count": 127
        }
      ]
    },
    {
      "cell_type": "code",
      "source": [
        "X_train_scaled = mscalar.transform(X_train)"
      ],
      "metadata": {
        "id": "YfD0Bya50xiz"
      },
      "execution_count": 128,
      "outputs": []
    },
    {
      "cell_type": "code",
      "source": [
        "X_train_scaled"
      ],
      "metadata": {
        "colab": {
          "base_uri": "https://localhost:8080/"
        },
        "id": "xoUHynYu069y",
        "outputId": "ffedda3c-fffd-4c67-b021-7018974b9e83"
      },
      "execution_count": 129,
      "outputs": [
        {
          "output_type": "execute_result",
          "data": {
            "text/plain": [
              "array([[0.19252874, 0.19325153, 0.42857143, ..., 0.45588235, 0.06020067,\n",
              "        0.66666667],\n",
              "       [0.23706897, 0.23773006, 0.57142857, ..., 0.55882353, 0.37123746,\n",
              "        0.33333333],\n",
              "       [0.11063218, 0.12116564, 0.28571429, ..., 0.07352941, 0.7993311 ,\n",
              "        0.66666667],\n",
              "       ...,\n",
              "       [0.09051724, 0.11809816, 0.14285714, ..., 0.82352941, 0.46655518,\n",
              "        0.66666667],\n",
              "       [0.22413793, 0.25920245, 0.42857143, ..., 0.08823529, 0.20735786,\n",
              "        1.        ],\n",
              "       [0.17097701, 0.16257669, 0.42857143, ..., 0.08823529, 0.93979933,\n",
              "        1.        ]])"
            ]
          },
          "metadata": {},
          "execution_count": 129
        }
      ]
    },
    {
      "cell_type": "code",
      "source": [
        "X_test_scaled = mscalar.transform(X_test)\n",
        "X_test_scaled"
      ],
      "metadata": {
        "colab": {
          "base_uri": "https://localhost:8080/"
        },
        "id": "gcNC0Gy60-8J",
        "outputId": "d7797e2b-edb8-4199-9d80-e7758b92fb47"
      },
      "execution_count": 130,
      "outputs": [
        {
          "output_type": "execute_result",
          "data": {
            "text/plain": [
              "array([[0.06034483, 0.06288344, 0.        , ..., 0.35294118, 0.67056856,\n",
              "        1.        ],\n",
              "       [0.25431034, 0.27760736, 0.42857143, ..., 0.26470588, 0.82274247,\n",
              "        0.66666667],\n",
              "       [0.44827586, 0.45398773, 0.71428571, ..., 1.        , 0.79431438,\n",
              "        0.33333333],\n",
              "       ...,\n",
              "       [0.05172414, 0.05674847, 0.        , ..., 0.35294118, 0.91304348,\n",
              "        0.33333333],\n",
              "       [0.1566092 , 0.17484663, 0.28571429, ..., 0.14705882, 0.36120401,\n",
              "        0.66666667],\n",
              "       [0.15517241, 0.18558282, 0.28571429, ..., 0.67647059, 0.87625418,\n",
              "        0.66666667]])"
            ]
          },
          "metadata": {},
          "execution_count": 130
        }
      ]
    },
    {
      "cell_type": "markdown",
      "source": [
        "Creating and training the model"
      ],
      "metadata": {
        "id": "343QMgbx1pXw"
      }
    },
    {
      "cell_type": "code",
      "source": [
        "from sklearn.linear_model import LinearRegression\n",
        "model = LinearRegression()"
      ],
      "metadata": {
        "id": "_-IPriES1OFQ"
      },
      "execution_count": 131,
      "outputs": []
    },
    {
      "cell_type": "code",
      "source": [
        "model.fit(X_train_scaled, y_train)"
      ],
      "metadata": {
        "colab": {
          "base_uri": "https://localhost:8080/"
        },
        "id": "BgmJaCtr10Gn",
        "outputId": "280048ff-78f8-453d-d525-5e12f0fc0f73"
      },
      "execution_count": 132,
      "outputs": [
        {
          "output_type": "execute_result",
          "data": {
            "text/plain": [
              "LinearRegression()"
            ]
          },
          "metadata": {},
          "execution_count": 132
        }
      ]
    },
    {
      "cell_type": "markdown",
      "source": [
        "Checking out the prediction"
      ],
      "metadata": {
        "id": "aUuXlNHn2Vh8"
      }
    },
    {
      "cell_type": "code",
      "source": [
        "prediction = model.predict(X_test_scaled)"
      ],
      "metadata": {
        "id": "2k3zBiVm2MhU"
      },
      "execution_count": 133,
      "outputs": []
    },
    {
      "cell_type": "code",
      "source": [
        "prediction [0]"
      ],
      "metadata": {
        "colab": {
          "base_uri": "https://localhost:8080/"
        },
        "id": "8aDmxeG-2f7g",
        "outputId": "8d23cf74-0a05-4629-a5da-8ea8ad1a06b0"
      },
      "execution_count": 134,
      "outputs": [
        {
          "output_type": "execute_result",
          "data": {
            "text/plain": [
              "91295.73090515585"
            ]
          },
          "metadata": {},
          "execution_count": 134
        }
      ]
    },
    {
      "cell_type": "code",
      "source": [
        "np_y_test = np.array(y_test)\n",
        "np_y_test[0]"
      ],
      "metadata": {
        "colab": {
          "base_uri": "https://localhost:8080/"
        },
        "id": "AQe4ZEgm2mNc",
        "outputId": "acb63c86-67fa-45d1-fb36-292e524b5b3c"
      },
      "execution_count": 135,
      "outputs": [
        {
          "output_type": "execute_result",
          "data": {
            "text/plain": [
              "92117"
            ]
          },
          "metadata": {},
          "execution_count": 135
        }
      ]
    },
    {
      "cell_type": "markdown",
      "source": [
        "Performance metrics"
      ],
      "metadata": {
        "id": "GLg-pum53g_5"
      }
    },
    {
      "cell_type": "code",
      "source": [
        "from sklearn.metrics import mean_absolute_error, mean_squared_error"
      ],
      "metadata": {
        "id": "7YYVIljh2tD5"
      },
      "execution_count": 136,
      "outputs": []
    },
    {
      "cell_type": "code",
      "source": [
        "print('Mean Absolute Error : ', mean_absolute_error(np_y_test, prediction))\n",
        "print('Mean Squared Error  : ', mean_squared_error(np_y_test, prediction))\n",
        "print('RMSE                : ', np.sqrt(mean_squared_error(np_y_test, prediction)))"
      ],
      "metadata": {
        "colab": {
          "base_uri": "https://localhost:8080/"
        },
        "id": "MIOCaNhj3J_F",
        "outputId": "f936d0e6-6007-4c1f-f399-9d782d08ff22"
      },
      "execution_count": 137,
      "outputs": [
        {
          "output_type": "stream",
          "name": "stdout",
          "text": [
            "Mean Absolute Error :  7296.3802295875075\n",
            "Mean Squared Error  :  97466825.81455497\n",
            "RMSE                :  9872.52884597229\n"
          ]
        }
      ]
    },
    {
      "cell_type": "code",
      "source": [
        "index_position = 0\n",
        "\n",
        "np_y_test = np.array(y_test)\n",
        "actual = np_y_test[index_position]\n",
        "pred = round(prediction[index_position], 2)\n",
        "diff = round(actual - pred, 2)\n",
        "perc = round (diff/actual *100, 2)\n",
        "print('Actual     : ' + str(actual))\n",
        "print('Prediction : ' + str(pred))\n",
        "print('Error      : ' + str(diff))\n",
        "print('Error %    : ' + str(perc) + '%')"
      ],
      "metadata": {
        "colab": {
          "base_uri": "https://localhost:8080/"
        },
        "id": "LgiuIdPD4Jiy",
        "outputId": "1d2afb76-5222-4059-e246-23673c8d050e"
      },
      "execution_count": 138,
      "outputs": [
        {
          "output_type": "stream",
          "name": "stdout",
          "text": [
            "Actual     : 92117\n",
            "Prediction : 91295.73\n",
            "Error      : 821.27\n",
            "Error %    : 0.89%\n"
          ]
        }
      ]
    },
    {
      "cell_type": "code",
      "source": [],
      "metadata": {
        "id": "yWc0Tvhl5YZc"
      },
      "execution_count": 138,
      "outputs": []
    }
  ]
}